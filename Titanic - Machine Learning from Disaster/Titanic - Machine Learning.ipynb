{
 "metadata": {
  "language_info": {
   "codemirror_mode": {
    "name": "ipython",
    "version": 3
   },
   "file_extension": ".py",
   "mimetype": "text/x-python",
   "name": "python",
   "nbconvert_exporter": "python",
   "pygments_lexer": "ipython3",
   "version": "3.9.1-final"
  },
  "orig_nbformat": 2,
  "kernelspec": {
   "name": "python3",
   "display_name": "Python 3.9.1 64-bit",
   "metadata": {
    "interpreter": {
     "hash": "9fb7c04ba0ffa2a1ef89f25f031df2aa278caeb6f2e11ff94331ca49899ae0c0"
    }
   }
  }
 },
 "nbformat": 4,
 "nbformat_minor": 2,
 "cells": [
  {
   "cell_type": "code",
   "execution_count": 9,
   "metadata": {},
   "outputs": [],
   "source": [
    "import numpy as np\n",
    "import matplotlib.pyplot as plt\n",
    "import pandas as pd\n",
    "import lightgbm as lgb\n",
    "%matplotlib inline"
   ]
  },
  {
   "cell_type": "code",
   "execution_count": 10,
   "metadata": {},
   "outputs": [
    {
     "output_type": "stream",
     "name": "stdout",
     "text": [
      "     PassengerId  Survived  Pclass  \\\n0              1         0       3   \n1              2         1       1   \n2              3         1       3   \n3              4         1       1   \n4              5         0       3   \n..           ...       ...     ...   \n886          887         0       2   \n887          888         1       1   \n888          889         0       3   \n889          890         1       1   \n890          891         0       3   \n\n                                                  Name       Age  SibSp  \\\n0                              Braund, Mr. Owen Harris -0.584387      1   \n1    Cumings, Mrs. John Bradley (Florence Briggs Th...  0.621365      1   \n2                               Heikkinen, Miss. Laina -0.282949      0   \n3         Futrelle, Mrs. Jacques Heath (Lily May Peel)  0.395286      1   \n4                             Allen, Mr. William Henry  0.395286      0   \n..                                                 ...       ...    ...   \n886                              Montvila, Rev. Juozas -0.207590      0   \n887                       Graham, Miss. Margaret Edith -0.810466      0   \n888           Johnston, Miss. Catherine Helen \"Carrie\" -0.601421      1   \n889                              Behr, Mr. Karl Howell -0.282949      0   \n890                                Dooley, Mr. Patrick  0.169208      0   \n\n     Parch            Ticket      Fare Cabin  Family  Alone  honorific  \\\n0        0         A/5 21171 -0.502445   NaN       1    0.0          2   \n1        0          PC 17599  0.786845   C85       1    0.0          3   \n2        0  STON/O2. 3101282 -0.488854   NaN       0    1.0          1   \n3        0            113803  0.420730  C123       1    0.0          3   \n4        0            373450 -0.486337   NaN       0    1.0          2   \n..     ...               ...       ...   ...     ...    ...        ...   \n886      0            211536 -0.386671   NaN       0    1.0          4   \n887      0            112053 -0.044381   B42       0    1.0          1   \n888      2        W./C. 6607 -0.176263   NaN       3    0.0          1   \n889      0            111369 -0.044381  C148       0    1.0          2   \n890      0            370376 -0.492378   NaN       0    1.0          2   \n\n     Embarked_C  Embarked_Q  Embarked_S  Sex_male  \n0             0           0           1         1  \n1             1           0           0         0  \n2             0           0           1         0  \n3             0           0           1         0  \n4             0           0           1         1  \n..          ...         ...         ...       ...  \n886           0           0           1         1  \n887           0           0           1         0  \n888           0           0           1         0  \n889           1           0           0         1  \n890           0           1           0         1  \n\n[891 rows x 17 columns]\n"
     ]
    }
   ],
   "source": [
    "dataset = pd.read_csv('data/train.csv', sep=',')\n",
    "features = [\"Age\", \"Pclass\", \"Sex_male\", \"Alone\", \"Fare\", \"Embarked_S\", \"Embarked_C\", \"Embarked_Q\"]\n",
    "\n",
    "# 欠損値の確認\n",
    "#print(dataset.isnull().sum())\n",
    "\n",
    "def data_preprocessing(dataset):\n",
    "\n",
    "    # 家族人数を表すカラムを追加\n",
    "    dataset['Family'] = dataset['SibSp'] + dataset['Parch']\n",
    "    dataset.loc[dataset['Family'] == 0, 'Alone'] = 1\n",
    "    dataset['Alone'] = dataset['Alone'].fillna(value=0)\n",
    "\n",
    "    # Age, honorificの処理 *********************************************************************************\n",
    "    # 最大分割回数 = 2で、名前を\",\"または\".\"で分割\n",
    "    dataset['honorific'] = dataset['Name'].str.split('[,.]', 2, expand = True)[1].str.strip()\n",
    "\n",
    "    # データ可視化用の処理\n",
    "    #hist_honorific = dataset[['honorific', 'Survived', 'PassengerId']].groupby(['honorific', 'Survived']).count().unstack()\n",
    "    #hist_honorific.plot.bar(stacked=True)\n",
    "\n",
    "    # 敬称でgroupbyし、平均年齢を算出\n",
    "    average_age = dataset[['honorific', 'Age']].groupby(['honorific']).mean()\n",
    "\n",
    "    # 置き換え用の一時カラム'abc'に、敬称に基づいた平均年齢を格納\n",
    "    dataset['abc'] = dataset['honorific'].apply(lambda x: average_age.loc[x,'Age'])\n",
    "    # 年齢がNaNについては敬称に基づいた平均年齢で補完\n",
    "    dataset['Age'] = dataset['Age'].fillna(dataset['abc'])\n",
    "    # 置き換え用の一時カラムを削除\n",
    "    dataset = dataset.drop(columns = ['abc'])\n",
    "\n",
    "    # 重要そうな敬称以外は'Other'に統一\n",
    "    dataset['honorific'] = dataset['honorific'].where((dataset['honorific'] == 'Mr') | (dataset['honorific'] == 'Miss') | (dataset['honorific'] == 'Mrs') | (dataset['honorific'] == 'Master'), other = 'Other')\n",
    "    \n",
    "    from sklearn.preprocessing import LabelEncoder\n",
    "    encoder = LabelEncoder()\n",
    "    dataset['honorific'] = encoder.fit_transform(dataset['honorific'])\n",
    "    # **********************************************************************************************\n",
    "\n",
    "    # Ageの欠損値にはpandaではなくscikit-learnのライブラリを使用\n",
    "    from sklearn.impute import SimpleImputer\n",
    "    imputer = SimpleImputer(missing_values = np.nan, strategy = 'median')\n",
    "    dataset['Fare'] = imputer.fit_transform(dataset['Fare'].values.reshape(-1,1))\n",
    "    imputer = SimpleImputer(missing_values = np.nan, strategy = 'most_frequent')\n",
    "    dataset['Embarked'] = imputer.fit_transform(dataset['Embarked'].values.reshape(-1,1))\n",
    "\n",
    "    dataset = pd.get_dummies(dataset, columns=['Embarked'], drop_first=False)\n",
    "    # SexはLabelEncodingを用いると多重共線性が発生? OneHot Encodingへ変更\n",
    "    dataset = pd.get_dummies(dataset, columns=['Sex'], drop_first=True)\n",
    "\n",
    "    # Features Scaling\n",
    "    from sklearn.preprocessing import StandardScaler\n",
    "    scaler = StandardScaler()\n",
    "    dataset['Age'] = scaler.fit_transform(dataset['Age'].values.reshape(-1,1))\n",
    "    dataset['Fare'] = scaler.fit_transform(dataset['Fare'].values.reshape(-1,1))\n",
    "\n",
    "\n",
    "    X = dataset.loc[:,features].values\n",
    "    if 'Survived' in dataset.columns:\n",
    "        y = dataset.loc[:,'Survived'].values\n",
    "    else:\n",
    "        y = np.nan\n",
    "\n",
    "    # それ以外の欠損はimpute\n",
    "    X = imputer.fit_transform(X)\n",
    "    \n",
    "    return X, y, dataset\n",
    "\n",
    "X, y, dataset = data_preprocessing(dataset)\n",
    "print(dataset)"
   ]
  },
  {
   "cell_type": "code",
   "execution_count": 11,
   "metadata": {},
   "outputs": [],
   "source": [
    "from sklearn.model_selection import train_test_split\n",
    "X_train, X_test, y_train, y_test = train_test_split(X, y)"
   ]
  },
  {
   "cell_type": "code",
   "execution_count": 12,
   "metadata": {},
   "outputs": [
    {
     "output_type": "stream",
     "name": "stdout",
     "text": [
      "[[127  21]\n [ 23  52]]\naccuracy_score = 0.80269\n"
     ]
    }
   ],
   "source": [
    "# Logistic Regression\n",
    "from sklearn.linear_model import LogisticRegression\n",
    "logi_classifier = LogisticRegression()\n",
    "logi_classifier.fit(X_train, y_train)\n",
    "y_pred = logi_classifier.predict(X_test)\n",
    "\n",
    "from sklearn.metrics import confusion_matrix, accuracy_score\n",
    "def create_confusion_matrix(y_test, y_pred):\n",
    "    cm = confusion_matrix(y_test, y_pred)\n",
    "    print(cm)\n",
    "    print(f'accuracy_score = {accuracy_score(y_test,y_pred):.5f}')\n",
    "\n",
    "create_confusion_matrix(y_test, y_pred)"
   ]
  },
  {
   "cell_type": "code",
   "execution_count": 13,
   "metadata": {},
   "outputs": [
    {
     "output_type": "stream",
     "name": "stdout",
     "text": [
      "[[137  11]\n [ 39  36]]\naccuracy_score = 0.77578\n"
     ]
    }
   ],
   "source": [
    "# K-Nearest Neighbors\n",
    "from sklearn.neighbors import KNeighborsClassifier\n",
    "k_classifier = KNeighborsClassifier(n_neighbors=2, metric='minkowski', p=1)\n",
    "k_classifier.fit(X_train, y_train)\n",
    "y_pred = k_classifier.predict(X_test)\n",
    "\n",
    "create_confusion_matrix(y_test, y_pred)"
   ]
  },
  {
   "cell_type": "code",
   "execution_count": 14,
   "metadata": {},
   "outputs": [
    {
     "output_type": "stream",
     "name": "stdout",
     "text": [
      "[[131  17]\n [ 23  52]]\naccuracy_score = 0.82063\n"
     ]
    }
   ],
   "source": [
    "# Support Vector Machine\n",
    "from sklearn.svm import SVC\n",
    "svm_classifier = SVC(kernel='linear', random_state=0)\n",
    "svm_classifier.fit(X_train, y_train)\n",
    "y_pred = svm_classifier.predict(X_test)\n",
    "\n",
    "create_confusion_matrix(y_test, y_pred)"
   ]
  },
  {
   "cell_type": "code",
   "execution_count": 15,
   "metadata": {},
   "outputs": [
    {
     "output_type": "stream",
     "name": "stdout",
     "text": [
      "[[128  20]\n [ 28  47]]\naccuracy_score = 0.78475\n"
     ]
    }
   ],
   "source": [
    "# Naive Bayes\n",
    "from sklearn.naive_bayes import GaussianNB\n",
    "naive_classifier = GaussianNB()\n",
    "naive_classifier.fit(X_train, y_train)\n",
    "y_pred = naive_classifier.predict(X_test)\n",
    "\n",
    "create_confusion_matrix(y_test, y_pred)"
   ]
  },
  {
   "cell_type": "code",
   "execution_count": 17,
   "metadata": {},
   "outputs": [
    {
     "output_type": "stream",
     "name": "stdout",
     "text": [
      "[[135  13]\n [ 27  48]]\naccuracy_score = 0.82063\n"
     ]
    }
   ],
   "source": [
    "# Random Forest Classification\n",
    "from sklearn.ensemble import RandomForestClassifier\n",
    "rndm_classifier = RandomForestClassifier(n_estimators=10, criterion='gini', bootstrap=False, max_features=2, min_samples_leaf=1, min_samples_split=20, random_state=0)\n",
    "rndm_classifier.fit(X_train, y_train)\n",
    "y_pred = rndm_classifier.predict(X_test)\n",
    "\n",
    "create_confusion_matrix(y_test, y_pred)"
   ]
  },
  {
   "cell_type": "code",
   "execution_count": 221,
   "metadata": {},
   "outputs": [
    {
     "output_type": "stream",
     "name": "stdout",
     "text": [
      "0.8070104025327905\n"
     ]
    }
   ],
   "source": [
    "# KFold\n",
    "from sklearn.model_selection import KFold\n",
    "from sklearn.model_selection import cross_val_score\n",
    "kfold = KFold(n_splits=10, random_state=42)\n",
    "result = cross_val_score = cross_val_score(RandomForestClassifier(), X_train, y_train, cv = kfold, scoring = 'accuracy')\n",
    "print(result.mean())"
   ]
  },
  {
   "cell_type": "code",
   "execution_count": 222,
   "metadata": {},
   "outputs": [
    {
     "output_type": "error",
     "ename": "SyntaxError",
     "evalue": "EOF while scanning triple-quoted string literal (<ipython-input-222-da4f042cd10a>, line 16)",
     "traceback": [
      "\u001b[1;36m  File \u001b[1;32m\"<ipython-input-222-da4f042cd10a>\"\u001b[1;36m, line \u001b[1;32m16\u001b[0m\n\u001b[1;33m    grid_search.best_params_\u001b[0m\n\u001b[1;37m                            \n^\u001b[0m\n\u001b[1;31mSyntaxError\u001b[0m\u001b[1;31m:\u001b[0m EOF while scanning triple-quoted string literal\n"
     ]
    }
   ],
   "source": [
    "# grid search\n",
    "'''\n",
    "from sklearn.model_selection import GridSearchCV\n",
    "grid_parameters = [\n",
    "    {'n_estimators': [1, 2, 5, 10, 100, 1000], \n",
    "    'criterion': ['gini', 'entropy'],\n",
    "    'max_features': [1, 2, 5, 10, 20],\n",
    "    'min_samples_split': [1, 2, 5, 10, 20],\n",
    "    'min_samples_leaf': [1, 2, 5, 10, 20],\n",
    "    'bootstrap': [True, False],\n",
    "    }\n",
    "]\n",
    "\n",
    "grid_search = GridSearchCV(RandomForestClassifier(), grid_parameters, cv=5, scoring='accuracy', n_jobs = -1)\n",
    "grid_search.fit(X_train, y_train)\n",
    "grid_search.best_params_"
   ]
  },
  {
   "cell_type": "code",
   "execution_count": 18,
   "metadata": {},
   "outputs": [
    {
     "output_type": "stream",
     "name": "stdout",
     "text": [
      "[LightGBM] [Info] Number of positive: 267, number of negative: 401\n",
      "[LightGBM] [Warning] Auto-choosing row-wise multi-threading, the overhead of testing was 0.003365 seconds.\n",
      "You can set `force_row_wise=true` to remove the overhead.\n",
      "And if memory is not enough, you can set `force_col_wise=true`.\n",
      "[LightGBM] [Info] Total Bins 193\n",
      "[LightGBM] [Info] Number of data points in the train set: 668, number of used features: 8\n",
      "[LightGBM] [Info] [binary:BoostFromScore]: pavg=0.399701 -> initscore=-0.406713\n",
      "[LightGBM] [Info] Start training from score -0.406713\n",
      "[LightGBM] [Warning] No further splits with positive gain, best gain: -inf\n",
      "Training until validation scores don't improve for 20 rounds\n",
      "[LightGBM] [Warning] No further splits with positive gain, best gain: -inf\n",
      "[LightGBM] [Warning] No further splits with positive gain, best gain: -inf\n",
      "[LightGBM] [Warning] No further splits with positive gain, best gain: -inf\n",
      "[LightGBM] [Warning] No further splits with positive gain, best gain: -inf\n",
      "[LightGBM] [Warning] No further splits with positive gain, best gain: -inf\n",
      "[LightGBM] [Warning] No further splits with positive gain, best gain: -inf\n",
      "[LightGBM] [Warning] No further splits with positive gain, best gain: -inf\n",
      "[LightGBM] [Warning] No further splits with positive gain, best gain: -inf\n",
      "[LightGBM] [Warning] No further splits with positive gain, best gain: -inf\n",
      "[10]\tvalid_0's binary_logloss: 0.465456\n",
      "[LightGBM] [Warning] No further splits with positive gain, best gain: -inf\n",
      "[LightGBM] [Warning] No further splits with positive gain, best gain: -inf\n",
      "[LightGBM] [Warning] No further splits with positive gain, best gain: -inf\n",
      "[LightGBM] [Warning] No further splits with positive gain, best gain: -inf\n",
      "[LightGBM] [Warning] No further splits with positive gain, best gain: -inf\n",
      "[LightGBM] [Warning] No further splits with positive gain, best gain: -inf\n",
      "[LightGBM] [Warning] No further splits with positive gain, best gain: -inf\n",
      "[LightGBM] [Warning] No further splits with positive gain, best gain: -inf\n",
      "[LightGBM] [Warning] No further splits with positive gain, best gain: -inf\n",
      "[LightGBM] [Warning] No further splits with positive gain, best gain: -inf\n",
      "[20]\tvalid_0's binary_logloss: 0.433973\n",
      "[LightGBM] [Warning] No further splits with positive gain, best gain: -inf\n",
      "[LightGBM] [Warning] No further splits with positive gain, best gain: -inf\n",
      "[LightGBM] [Warning] No further splits with positive gain, best gain: -inf\n",
      "[LightGBM] [Warning] No further splits with positive gain, best gain: -inf\n",
      "[LightGBM] [Warning] No further splits with positive gain, best gain: -inf\n",
      "[LightGBM] [Warning] No further splits with positive gain, best gain: -inf\n",
      "[LightGBM] [Warning] No further splits with positive gain, best gain: -inf\n",
      "[LightGBM] [Warning] No further splits with positive gain, best gain: -inf\n",
      "[LightGBM] [Warning] No further splits with positive gain, best gain: -inf\n",
      "[LightGBM] [Warning] No further splits with positive gain, best gain: -inf\n",
      "[30]\tvalid_0's binary_logloss: 0.4236\n",
      "[LightGBM] [Warning] No further splits with positive gain, best gain: -inf\n",
      "[LightGBM] [Warning] No further splits with positive gain, best gain: -inf\n",
      "[LightGBM] [Warning] No further splits with positive gain, best gain: -inf\n",
      "[LightGBM] [Warning] No further splits with positive gain, best gain: -inf\n",
      "[LightGBM] [Warning] No further splits with positive gain, best gain: -inf\n",
      "[LightGBM] [Warning] No further splits with positive gain, best gain: -inf\n",
      "[LightGBM] [Warning] No further splits with positive gain, best gain: -inf\n",
      "[LightGBM] [Warning] No further splits with positive gain, best gain: -inf\n",
      "[LightGBM] [Warning] No further splits with positive gain, best gain: -inf\n",
      "[LightGBM] [Warning] No further splits with positive gain, best gain: -inf\n",
      "[40]\tvalid_0's binary_logloss: 0.416612\n",
      "[LightGBM] [Warning] No further splits with positive gain, best gain: -inf\n",
      "[LightGBM] [Warning] No further splits with positive gain, best gain: -inf\n",
      "[LightGBM] [Warning] No further splits with positive gain, best gain: -inf\n",
      "[LightGBM] [Warning] No further splits with positive gain, best gain: -inf\n",
      "[LightGBM] [Warning] No further splits with positive gain, best gain: -inf\n",
      "[LightGBM] [Warning] No further splits with positive gain, best gain: -inf\n",
      "[LightGBM] [Warning] No further splits with positive gain, best gain: -inf\n",
      "[LightGBM] [Warning] No further splits with positive gain, best gain: -inf\n",
      "[LightGBM] [Warning] No further splits with positive gain, best gain: -inf\n",
      "[LightGBM] [Warning] No further splits with positive gain, best gain: -inf\n",
      "[50]\tvalid_0's binary_logloss: 0.417427\n",
      "[LightGBM] [Warning] No further splits with positive gain, best gain: -inf\n",
      "[LightGBM] [Warning] No further splits with positive gain, best gain: -inf\n",
      "[LightGBM] [Warning] No further splits with positive gain, best gain: -inf\n",
      "[LightGBM] [Warning] No further splits with positive gain, best gain: -inf\n",
      "[LightGBM] [Warning] No further splits with positive gain, best gain: -inf\n",
      "[LightGBM] [Warning] No further splits with positive gain, best gain: -inf\n",
      "[LightGBM] [Warning] No further splits with positive gain, best gain: -inf\n",
      "[LightGBM] [Warning] No further splits with positive gain, best gain: -inf\n",
      "[LightGBM] [Warning] No further splits with positive gain, best gain: -inf\n",
      "[LightGBM] [Warning] No further splits with positive gain, best gain: -inf\n",
      "[60]\tvalid_0's binary_logloss: 0.416141\n",
      "[LightGBM] [Warning] No further splits with positive gain, best gain: -inf\n",
      "[LightGBM] [Warning] No further splits with positive gain, best gain: -inf\n",
      "[LightGBM] [Warning] No further splits with positive gain, best gain: -inf\n",
      "[LightGBM] [Warning] No further splits with positive gain, best gain: -inf\n",
      "[LightGBM] [Warning] No further splits with positive gain, best gain: -inf\n",
      "[LightGBM] [Warning] No further splits with positive gain, best gain: -inf\n",
      "[LightGBM] [Warning] No further splits with positive gain, best gain: -inf\n",
      "[LightGBM] [Warning] No further splits with positive gain, best gain: -inf\n",
      "[LightGBM] [Warning] No further splits with positive gain, best gain: -inf\n",
      "[LightGBM] [Warning] No further splits with positive gain, best gain: -inf\n",
      "[70]\tvalid_0's binary_logloss: 0.414786\n",
      "[LightGBM] [Warning] No further splits with positive gain, best gain: -inf\n",
      "[LightGBM] [Warning] No further splits with positive gain, best gain: -inf\n",
      "[LightGBM] [Warning] No further splits with positive gain, best gain: -inf\n",
      "[LightGBM] [Warning] No further splits with positive gain, best gain: -inf\n",
      "[LightGBM] [Warning] No further splits with positive gain, best gain: -inf\n",
      "[LightGBM] [Warning] No further splits with positive gain, best gain: -inf\n",
      "[LightGBM] [Warning] No further splits with positive gain, best gain: -inf\n",
      "[LightGBM] [Warning] No further splits with positive gain, best gain: -inf\n",
      "[LightGBM] [Warning] No further splits with positive gain, best gain: -inf\n",
      "[LightGBM] [Warning] No further splits with positive gain, best gain: -inf\n",
      "[80]\tvalid_0's binary_logloss: 0.413357\n",
      "[LightGBM] [Warning] No further splits with positive gain, best gain: -inf\n",
      "[LightGBM] [Warning] No further splits with positive gain, best gain: -inf\n",
      "[LightGBM] [Warning] No further splits with positive gain, best gain: -inf\n",
      "[LightGBM] [Warning] No further splits with positive gain, best gain: -inf\n",
      "[LightGBM] [Warning] No further splits with positive gain, best gain: -inf\n",
      "[LightGBM] [Warning] No further splits with positive gain, best gain: -inf\n",
      "[LightGBM] [Warning] No further splits with positive gain, best gain: -inf\n",
      "[LightGBM] [Warning] No further splits with positive gain, best gain: -inf\n",
      "[LightGBM] [Warning] No further splits with positive gain, best gain: -inf\n",
      "[LightGBM] [Warning] No further splits with positive gain, best gain: -inf\n",
      "[90]\tvalid_0's binary_logloss: 0.413727\n",
      "[LightGBM] [Warning] No further splits with positive gain, best gain: -inf\n",
      "[LightGBM] [Warning] No further splits with positive gain, best gain: -inf\n",
      "[LightGBM] [Warning] No further splits with positive gain, best gain: -inf\n",
      "[LightGBM] [Warning] No further splits with positive gain, best gain: -inf\n",
      "[LightGBM] [Warning] No further splits with positive gain, best gain: -inf\n",
      "[LightGBM] [Warning] No further splits with positive gain, best gain: -inf\n",
      "[LightGBM] [Warning] No further splits with positive gain, best gain: -inf\n",
      "[LightGBM] [Warning] No further splits with positive gain, best gain: -inf\n",
      "[LightGBM] [Warning] No further splits with positive gain, best gain: -inf\n",
      "[LightGBM] [Warning] No further splits with positive gain, best gain: -inf\n",
      "[100]\tvalid_0's binary_logloss: 0.413648\n",
      "Did not meet early stopping. Best iteration is:\n",
      "[86]\tvalid_0's binary_logloss: 0.411205\n"
     ]
    }
   ],
   "source": [
    "# LightGBM\n",
    "lgb_train = lgb.Dataset(X_train, y_train)\n",
    "lgb_test = lgb.Dataset(X_test, y_test)\n",
    "parameter = {\n",
    "    'objective': 'binary',\n",
    "    'random_seed': 1234,\n",
    "    'num_iterations': 100,\n",
    "    'max_depth': -1,\n",
    "    'num_leaves':20,\n",
    "    'max_bin': 500,\n",
    "    'min_data_in_leaf': 57\n",
    "}\n",
    "model = lgb.train(parameter, train_set=lgb_train, valid_sets=lgb_test, num_boost_round=200,\n",
    "                    early_stopping_rounds=20, verbose_eval=10)\n"
   ]
  },
  {
   "cell_type": "code",
   "execution_count": 21,
   "metadata": {
    "tags": []
   },
   "outputs": [
    {
     "output_type": "stream",
     "name": "stdout",
     "text": [
      "\n\nmax accuracy is 0.8520 at 0.5429\n[[142   6]\n [ 27  48]]\naccuracy_score = 0.85202\n"
     ]
    }
   ],
   "source": [
    "y_pred = model.predict(X_test)\n",
    "metric = []\n",
    "range_index = 10000\n",
    "for x in range(0, range_index, 1):\n",
    "    y_adjust = np.where(y_pred > x/range_index, 1, 0)\n",
    "    metric.append(accuracy_score(y_test, y_adjust))\n",
    "#create_confusion_matrix(y_test, y_pred)\n",
    "print(f'\\n\\nmax accuracy is {max(metric):.4f} at {metric.index(max(metric))/range_index}')\n",
    "\n",
    "y_pred = np.where(y_pred > 0.5429, 1, 0)\n",
    "create_confusion_matrix(y_test, y_pred)"
   ]
  },
  {
   "cell_type": "code",
   "execution_count": 223,
   "metadata": {},
   "outputs": [
    {
     "output_type": "stream",
     "name": "stdout",
     "text": [
      "Your submission was successfully saved!\n"
     ]
    }
   ],
   "source": [
    "# Predict\n",
    "test_dataset = pd.read_csv('data/test.csv')\n",
    "X, y, test_dataset = data_preprocessing(test_dataset)\n",
    "y_pred = model.predict(X)\n",
    "y_pred = np.where(y_pred > 0.4128, 1, 0)\n",
    "\n",
    "output = pd.DataFrame({'PassengerId': test_dataset['PassengerId'], 'Survived': y_pred})\n",
    "output.to_csv('my_submission.csv', index=False)\n",
    "print(\"Your submission was successfully saved!\")"
   ]
  },
  {
   "cell_type": "code",
   "execution_count": null,
   "metadata": {},
   "outputs": [],
   "source": []
  }
 ]
}