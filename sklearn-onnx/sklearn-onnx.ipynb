{
 "metadata": {
  "language_info": {
   "codemirror_mode": {
    "name": "ipython",
    "version": 3
   },
   "file_extension": ".py",
   "mimetype": "text/x-python",
   "name": "python",
   "nbconvert_exporter": "python",
   "pygments_lexer": "ipython3",
   "version": "3.6.13-final"
  },
  "orig_nbformat": 2,
  "kernelspec": {
   "name": "python3",
   "display_name": "Python 3",
   "language": "python"
  }
 },
 "nbformat": 4,
 "nbformat_minor": 2,
 "cells": [
  {
   "cell_type": "code",
   "execution_count": null,
   "metadata": {},
   "outputs": [],
   "source": [
    "# How to install sklearn-onnx\n",
    "# https://github.com/onnx/sklearn-onnx\n",
    "# I tried \"conda instal skl2onnx\" but conda couldn't find such package.\n",
    "# \"pip install skl2onnx\" successfully installed.\n",
    "\n",
    "# Tutorial\n",
    "# http://onnx.ai/sklearn-onnx/introduction.html\n",
    "\n",
    "import numpy as np\n",
    "import pandas as pd\n",
    "import seaborn as sns\n",
    "from skl2onnx import convert_sklearn\n",
    "from skl2onnx.common.data_types import FloatTensorType\n",
    "pd.options.display.float_format = '{:.4}'.format"
   ]
  },
  {
   "cell_type": "code",
   "execution_count": null,
   "metadata": {},
   "outputs": [],
   "source": [
    "# dataset musn't have null values\n",
    "\n",
    "dataset = pd.read_csv('dataset.csv',header=None)\n",
    "print(f'Total columns include null: {dataset.isnull().sum().sum()}')"
   ]
  },
  {
   "cell_type": "code",
   "execution_count": null,
   "metadata": {},
   "outputs": [],
   "source": [
    "X = dataset.iloc[:,:-1]\n",
    "y = dataset.iloc[:,-1].astype(int)\n",
    "\n",
    "from sklearn.model_selection import train_test_split\n",
    "X_tr, X_te, y_tr, y_te = train_test_split(X, y, test_size=0.2, random_state=42, shuffle=True)\n",
    "\n",
    "print(y_te)"
   ]
  },
  {
   "cell_type": "code",
   "execution_count": null,
   "metadata": {},
   "outputs": [],
   "source": [
    "from sklearn.ensemble import RandomForestClassifier\n",
    "classifier = RandomForestClassifier()\n",
    "\n",
    "classifier.fit(X_tr,y_tr)\n",
    "y_pred = classifier.predict(X_te)\n",
    "\n",
    "from sklearn.metrics import confusion_matrix\n",
    "\n",
    "cn = confusion_matrix(y_te, y_pred)\n",
    "print(cn)\n",
    "\n",
    "# Convert sklearn model into ONNX format\n",
    "initial_type = [('float_input', FloatTensorType([None, len(X.columns)]))]\n",
    "onx = convert_sklearn(classifier, initial_types=initial_type)\n",
    "with open(\"my_classifier.onnx\", \"wb\") as f:\n",
    "    f.write(onx.SerializeToString())"
   ]
  }
 ]
}