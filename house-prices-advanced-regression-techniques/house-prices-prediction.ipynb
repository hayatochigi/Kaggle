{
 "metadata": {
  "language_info": {
   "codemirror_mode": {
    "name": "ipython",
    "version": 3
   },
   "file_extension": ".py",
   "mimetype": "text/x-python",
   "name": "python",
   "nbconvert_exporter": "python",
   "pygments_lexer": "ipython3",
   "version": "3.8.5-final"
  },
  "orig_nbformat": 2,
  "kernelspec": {
   "name": "python3",
   "display_name": "Python 3",
   "language": "python"
  }
 },
 "nbformat": 4,
 "nbformat_minor": 2,
 "cells": [
  {
   "cell_type": "code",
   "execution_count": 5,
   "metadata": {},
   "outputs": [],
   "source": [
    "import numpy as np\n",
    "import matplotlib.pyplot as plt\n",
    "import pandas as pd\n",
    "pd.set_option('display.max_columns', 81)"
   ]
  },
  {
   "cell_type": "code",
   "execution_count": 6,
   "metadata": {
    "tags": []
   },
   "outputs": [
    {
     "output_type": "stream",
     "name": "stdout",
     "text": [
      "Raw dataset shape: 1460 * 81\nNaN removed dataset shape: 1451 * 81\n"
     ]
    }
   ],
   "source": [
    "# trainデータを取得、NaN値などの状況を確認\n",
    "dataset = pd.read_csv('data/train.csv', sep=',')\n",
    "dataset_header = dataset.columns\n",
    "print(f'Raw dataset shape: {dataset.shape[0]} * {dataset.shape[1]}')\n",
    "\n",
    "# NaNチェック\n",
    "# datasetから一列ずつ取り出して、nullが含まれている場合はそのカラム名を返す\n",
    "def NaN_check(dataset):\n",
    "    for data in dataset:\n",
    "        numof_null = dataset[data].isnull().sum()\n",
    "        if numof_null > 0:\n",
    "            # nullが占める全体の割合 (%)\n",
    "            null_ratio = numof_null/dataset.shape[0] * 100\n",
    "\n",
    "            # とりあえず試行として... 1%より小さい割合のデータセットについては削除\n",
    "            if null_ratio < 1:\n",
    "                dataset = dataset.dropna(subset=[data])\n",
    "            #else:\n",
    "                #print(f'{data} have {numof_null} NaN (ratio is {null_ratio:.2f}%)')\n",
    "    print(f'NaN removed dataset shape: {dataset.shape[0]} * {dataset.shape[1]}')\n",
    "\n",
    "    return dataset\n",
    "\n",
    "dataset = NaN_check(dataset)"
   ]
  },
  {
   "cell_type": "code",
   "execution_count": 7,
   "metadata": {},
   "outputs": [],
   "source": [
    "# NaNデータの処理\n",
    "\n",
    "# Alleyは\"No alley access\"=\"NA\"のため、NaN処理なし\n",
    "# BsmtQualは\"Basementなし\"=\"NA\"のため、NaN処理なし (BsmtCondも同様)\n",
    "# Bsmt系はBasementがなければNAになるが... なぜBsmtExposureとBsmtFinType2は38で他は37?\n",
    "\n",
    "# Garage系はそのまま。81 NaNであることは81の住宅でガレージがないことを示す\n",
    "# GarageYrBltは年のデータでNaNがある。せっかくなので後ほどmedianで置換\n",
    "\n",
    "# PoolQCは\"プールなし\"=\"NA\"のため、NaN処理なし\n",
    "# Fenceは\"Fenceなし\"=\"NA\"のため、NaN処理なし\n",
    "\n",
    "def NaN_processing(dataset):\n",
    "    # LotFrontageのNaN値処理: NaNの場合はストリートに面していないと見なしZeroで置き換え\n",
    "    dataset['LotFrontage'] = dataset['LotFrontage'].fillna(0)\n",
    "\n",
    "    # MiscFeatureはその他のカテゴリ。とりあえず割愛\n",
    "    dataset = dataset.drop('MiscFeature', axis=1)\n",
    "\n",
    "    return dataset\n",
    "\n",
    "dataset = NaN_processing(dataset)"
   ]
  },
  {
   "cell_type": "code",
   "execution_count": 8,
   "metadata": {},
   "outputs": [
    {
     "output_type": "error",
     "ename": "TypeError",
     "evalue": "Encoders require their input to be uniformly strings or numbers. Got ['float', 'str']",
     "traceback": [
      "\u001b[1;31m---------------------------------------------------------------------------\u001b[0m",
      "\u001b[1;31mTypeError\u001b[0m                                 Traceback (most recent call last)",
      "\u001b[1;32mC:\\ProgramData\\Anaconda3\\lib\\site-packages\\sklearn\\preprocessing\\_label.py\u001b[0m in \u001b[0;36m_encode\u001b[1;34m(values, uniques, encode, check_unknown)\u001b[0m\n\u001b[0;32m    112\u001b[0m         \u001b[1;32mtry\u001b[0m\u001b[1;33m:\u001b[0m\u001b[1;33m\u001b[0m\u001b[1;33m\u001b[0m\u001b[0m\n\u001b[1;32m--> 113\u001b[1;33m             \u001b[0mres\u001b[0m \u001b[1;33m=\u001b[0m \u001b[0m_encode_python\u001b[0m\u001b[1;33m(\u001b[0m\u001b[0mvalues\u001b[0m\u001b[1;33m,\u001b[0m \u001b[0muniques\u001b[0m\u001b[1;33m,\u001b[0m \u001b[0mencode\u001b[0m\u001b[1;33m)\u001b[0m\u001b[1;33m\u001b[0m\u001b[1;33m\u001b[0m\u001b[0m\n\u001b[0m\u001b[0;32m    114\u001b[0m         \u001b[1;32mexcept\u001b[0m \u001b[0mTypeError\u001b[0m\u001b[1;33m:\u001b[0m\u001b[1;33m\u001b[0m\u001b[1;33m\u001b[0m\u001b[0m\n",
      "\u001b[1;32mC:\\ProgramData\\Anaconda3\\lib\\site-packages\\sklearn\\preprocessing\\_label.py\u001b[0m in \u001b[0;36m_encode_python\u001b[1;34m(values, uniques, encode)\u001b[0m\n\u001b[0;32m     60\u001b[0m     \u001b[1;32mif\u001b[0m \u001b[0muniques\u001b[0m \u001b[1;32mis\u001b[0m \u001b[1;32mNone\u001b[0m\u001b[1;33m:\u001b[0m\u001b[1;33m\u001b[0m\u001b[1;33m\u001b[0m\u001b[0m\n\u001b[1;32m---> 61\u001b[1;33m         \u001b[0muniques\u001b[0m \u001b[1;33m=\u001b[0m \u001b[0msorted\u001b[0m\u001b[1;33m(\u001b[0m\u001b[0mset\u001b[0m\u001b[1;33m(\u001b[0m\u001b[0mvalues\u001b[0m\u001b[1;33m)\u001b[0m\u001b[1;33m)\u001b[0m\u001b[1;33m\u001b[0m\u001b[1;33m\u001b[0m\u001b[0m\n\u001b[0m\u001b[0;32m     62\u001b[0m         \u001b[0muniques\u001b[0m \u001b[1;33m=\u001b[0m \u001b[0mnp\u001b[0m\u001b[1;33m.\u001b[0m\u001b[0marray\u001b[0m\u001b[1;33m(\u001b[0m\u001b[0muniques\u001b[0m\u001b[1;33m,\u001b[0m \u001b[0mdtype\u001b[0m\u001b[1;33m=\u001b[0m\u001b[0mvalues\u001b[0m\u001b[1;33m.\u001b[0m\u001b[0mdtype\u001b[0m\u001b[1;33m)\u001b[0m\u001b[1;33m\u001b[0m\u001b[1;33m\u001b[0m\u001b[0m\n",
      "\u001b[1;31mTypeError\u001b[0m: '<' not supported between instances of 'str' and 'float'",
      "\nDuring handling of the above exception, another exception occurred:\n",
      "\u001b[1;31mTypeError\u001b[0m                                 Traceback (most recent call last)",
      "\u001b[1;32m<ipython-input-8-bd0279d0c00e>\u001b[0m in \u001b[0;36m<module>\u001b[1;34m\u001b[0m\n\u001b[0;32m     31\u001b[0m     \u001b[1;32mreturn\u001b[0m \u001b[0mX\u001b[0m\u001b[1;33m,\u001b[0m \u001b[0my\u001b[0m\u001b[1;33m,\u001b[0m \u001b[0mdataset\u001b[0m\u001b[1;33m\u001b[0m\u001b[1;33m\u001b[0m\u001b[0m\n\u001b[0;32m     32\u001b[0m \u001b[1;33m\u001b[0m\u001b[0m\n\u001b[1;32m---> 33\u001b[1;33m \u001b[0mX\u001b[0m\u001b[1;33m,\u001b[0m \u001b[0my\u001b[0m\u001b[1;33m,\u001b[0m \u001b[0mdataset\u001b[0m \u001b[1;33m=\u001b[0m \u001b[0mdata_preprocessing\u001b[0m\u001b[1;33m(\u001b[0m\u001b[0mdataset\u001b[0m\u001b[1;33m,\u001b[0m \u001b[0mmode\u001b[0m\u001b[1;33m=\u001b[0m\u001b[1;34m'train'\u001b[0m\u001b[1;33m)\u001b[0m\u001b[1;33m\u001b[0m\u001b[1;33m\u001b[0m\u001b[0m\n\u001b[0m\u001b[0;32m     34\u001b[0m \u001b[1;33m\u001b[0m\u001b[0m\n\u001b[0;32m     35\u001b[0m \u001b[1;31m# train, testデータへ分割\u001b[0m\u001b[1;33m\u001b[0m\u001b[1;33m\u001b[0m\u001b[1;33m\u001b[0m\u001b[0m\n",
      "\u001b[1;32m<ipython-input-8-bd0279d0c00e>\u001b[0m in \u001b[0;36mdata_preprocessing\u001b[1;34m(dataset, mode)\u001b[0m\n\u001b[0;32m      7\u001b[0m     \u001b[1;32mfor\u001b[0m \u001b[0mx\u001b[0m \u001b[1;32min\u001b[0m \u001b[0mdataset\u001b[0m\u001b[1;33m:\u001b[0m\u001b[1;33m\u001b[0m\u001b[1;33m\u001b[0m\u001b[0m\n\u001b[0;32m      8\u001b[0m         \u001b[1;32mif\u001b[0m \u001b[0mnp\u001b[0m\u001b[1;33m.\u001b[0m\u001b[0mdtype\u001b[0m\u001b[1;33m(\u001b[0m\u001b[0mdataset\u001b[0m\u001b[1;33m[\u001b[0m\u001b[0mx\u001b[0m\u001b[1;33m]\u001b[0m\u001b[1;33m)\u001b[0m \u001b[1;33m==\u001b[0m \u001b[0mobject\u001b[0m\u001b[1;33m:\u001b[0m\u001b[1;33m\u001b[0m\u001b[1;33m\u001b[0m\u001b[0m\n\u001b[1;32m----> 9\u001b[1;33m             \u001b[0mdataset\u001b[0m\u001b[1;33m[\u001b[0m\u001b[0mx\u001b[0m\u001b[1;33m]\u001b[0m \u001b[1;33m=\u001b[0m \u001b[0mlabel_encoder\u001b[0m\u001b[1;33m.\u001b[0m\u001b[0mfit_transform\u001b[0m\u001b[1;33m(\u001b[0m\u001b[0mdataset\u001b[0m\u001b[1;33m[\u001b[0m\u001b[0mx\u001b[0m\u001b[1;33m]\u001b[0m\u001b[1;33m)\u001b[0m\u001b[1;33m\u001b[0m\u001b[1;33m\u001b[0m\u001b[0m\n\u001b[0m\u001b[0;32m     10\u001b[0m \u001b[1;33m\u001b[0m\u001b[0m\n\u001b[0;32m     11\u001b[0m     \u001b[1;31m# GarageYrBltのNaNを補完\u001b[0m\u001b[1;33m\u001b[0m\u001b[1;33m\u001b[0m\u001b[1;33m\u001b[0m\u001b[0m\n",
      "\u001b[1;32mC:\\ProgramData\\Anaconda3\\lib\\site-packages\\sklearn\\preprocessing\\_label.py\u001b[0m in \u001b[0;36mfit_transform\u001b[1;34m(self, y)\u001b[0m\n\u001b[0;32m    254\u001b[0m         \"\"\"\n\u001b[0;32m    255\u001b[0m         \u001b[0my\u001b[0m \u001b[1;33m=\u001b[0m \u001b[0mcolumn_or_1d\u001b[0m\u001b[1;33m(\u001b[0m\u001b[0my\u001b[0m\u001b[1;33m,\u001b[0m \u001b[0mwarn\u001b[0m\u001b[1;33m=\u001b[0m\u001b[1;32mTrue\u001b[0m\u001b[1;33m)\u001b[0m\u001b[1;33m\u001b[0m\u001b[1;33m\u001b[0m\u001b[0m\n\u001b[1;32m--> 256\u001b[1;33m         \u001b[0mself\u001b[0m\u001b[1;33m.\u001b[0m\u001b[0mclasses_\u001b[0m\u001b[1;33m,\u001b[0m \u001b[0my\u001b[0m \u001b[1;33m=\u001b[0m \u001b[0m_encode\u001b[0m\u001b[1;33m(\u001b[0m\u001b[0my\u001b[0m\u001b[1;33m,\u001b[0m \u001b[0mencode\u001b[0m\u001b[1;33m=\u001b[0m\u001b[1;32mTrue\u001b[0m\u001b[1;33m)\u001b[0m\u001b[1;33m\u001b[0m\u001b[1;33m\u001b[0m\u001b[0m\n\u001b[0m\u001b[0;32m    257\u001b[0m         \u001b[1;32mreturn\u001b[0m \u001b[0my\u001b[0m\u001b[1;33m\u001b[0m\u001b[1;33m\u001b[0m\u001b[0m\n\u001b[0;32m    258\u001b[0m \u001b[1;33m\u001b[0m\u001b[0m\n",
      "\u001b[1;32mC:\\ProgramData\\Anaconda3\\lib\\site-packages\\sklearn\\preprocessing\\_label.py\u001b[0m in \u001b[0;36m_encode\u001b[1;34m(values, uniques, encode, check_unknown)\u001b[0m\n\u001b[0;32m    115\u001b[0m             types = sorted(t.__qualname__\n\u001b[0;32m    116\u001b[0m                            for t in set(type(v) for v in values))\n\u001b[1;32m--> 117\u001b[1;33m             raise TypeError(\"Encoders require their input to be uniformly \"\n\u001b[0m\u001b[0;32m    118\u001b[0m                             f\"strings or numbers. Got {types}\")\n\u001b[0;32m    119\u001b[0m         \u001b[1;32mreturn\u001b[0m \u001b[0mres\u001b[0m\u001b[1;33m\u001b[0m\u001b[1;33m\u001b[0m\u001b[0m\n",
      "\u001b[1;31mTypeError\u001b[0m: Encoders require their input to be uniformly strings or numbers. Got ['float', 'str']"
     ]
    }
   ],
   "source": [
    "# Data Preprocessing\n",
    "def data_preprocessing(dataset, mode):\n",
    "    from sklearn.preprocessing import LabelEncoder\n",
    "    label_encoder = LabelEncoder()\n",
    "\n",
    "    # dtypeが数値でないものはラベルエンコーディング\n",
    "    for x in dataset:\n",
    "        if np.dtype(dataset[x]) == object:\n",
    "            dataset[x] = label_encoder.fit_transform(dataset[x])\n",
    "\n",
    "    # GarageYrBltのNaNを補完\n",
    "    from sklearn.impute import SimpleImputer\n",
    "    imputer = SimpleImputer(missing_values=np.nan, strategy='median')\n",
    "    dataset['GarageYrBlt'] = imputer.fit_transform(np.reshape(dataset['GarageYrBlt'].values, (dataset['GarageYrBlt'].shape[0], 1)))[:,0]\n",
    "\n",
    "    #独立変数X, 従属変数y\n",
    "    X = dataset.drop('Id', axis=1)\n",
    "    if mode == 'train':\n",
    "        X = dataset.iloc[:, :-1].values\n",
    "        y = dataset.iloc[:,-1].values   \n",
    "    else:\n",
    "        X = dataset.iloc[:, :].values\n",
    "        y = np.nan\n",
    "    X = imputer.fit_transform(X)\n",
    "       \n",
    "    # ZScoreでスケーリング\n",
    "    from sklearn.preprocessing import StandardScaler\n",
    "    scaler = StandardScaler()\n",
    "    X = scaler.fit_transform(X)\n",
    "\n",
    "    return X, y, dataset\n",
    "\n",
    "X, y, dataset = data_preprocessing(dataset, mode='train')\n",
    "\n",
    "# train, testデータへ分割\n",
    "from sklearn.model_selection import train_test_split\n",
    "X_train, X_test, y_train, y_test = train_test_split(X, y, test_size=0.2, random_state=0)"
   ]
  },
  {
   "cell_type": "code",
   "execution_count": 46,
   "metadata": {},
   "outputs": [
    {
     "output_type": "stream",
     "name": "stdout",
     "text": [
      "R2 Score(train) is 0.84956\nR2 Score(test) is 0.85430\n"
     ]
    }
   ],
   "source": [
    "# (Multiple) Linear Regression\n",
    "from sklearn.linear_model import LinearRegression\n",
    "regressor = LinearRegression()\n",
    "regressor.fit(X_train,y_train)\n",
    "\n",
    "y_pred = regressor.predict(X_test)\n",
    "y_train_pred = regressor.predict(X_train)\n",
    "\n",
    "# trainデータとtestデータそれぞれのR2スコアを表示する関数\n",
    "def print_r2_score(y_train, y_test, y_train_pred, y_pred):\n",
    "    from sklearn.metrics import r2_score\n",
    "    print(f'R2 Score(train) is {r2_score(y_train, y_train_pred):.5f}')\n",
    "    print(f'R2 Score(test) is {r2_score(y_test, y_pred):.5f}')\n",
    "\n",
    "print_r2_score(y_train, y_test, y_train_pred, y_pred)"
   ]
  },
  {
   "cell_type": "code",
   "execution_count": 47,
   "metadata": {},
   "outputs": [
    {
     "output_type": "stream",
     "name": "stdout",
     "text": [
      "R2 Score(train) is 1.00000\nR2 Score(test) is 0.44656\n"
     ]
    }
   ],
   "source": [
    "# Polymial Regression\n",
    "from sklearn.preprocessing import PolynomialFeatures\n",
    "polynomial_instance = PolynomialFeatures(degree = 2)\n",
    "X_poly_train = polynomial_instance.fit_transform(X_train)\n",
    "X_poly_test = polynomial_instance.fit_transform(X_test)\n",
    "\n",
    "regressor = LinearRegression()\n",
    "regressor.fit(X_poly_train, y_train)\n",
    "y_train_pred = regressor.predict(X_poly_train)\n",
    "y_pred = regressor.predict(X_poly_test)\n",
    "\n",
    "print_r2_score(y_train, y_test, y_train_pred, y_pred)"
   ]
  },
  {
   "cell_type": "code",
   "execution_count": 48,
   "metadata": {},
   "outputs": [
    {
     "output_type": "stream",
     "name": "stdout",
     "text": [
      "R2 Score(train) is 0.13558\nR2 Score(test) is 0.16843\n"
     ]
    }
   ],
   "source": [
    "# SVR\n",
    "from sklearn.svm import SVR\n",
    "svr_regressor = SVR(kernel='linear')\n",
    "svr_regressor.fit(X_train, y_train)\n",
    "y_pred = svr_regressor.predict(X_test)\n",
    "y_train_pred = svr_regressor.predict(X_train)\n",
    "\n",
    "print_r2_score(y_train, y_test, y_train_pred, y_pred)"
   ]
  },
  {
   "cell_type": "code",
   "execution_count": 49,
   "metadata": {},
   "outputs": [
    {
     "output_type": "stream",
     "name": "stdout",
     "text": [
      "R2 Score(train) is -0.04504\nR2 Score(test) is -0.03857\n"
     ]
    }
   ],
   "source": [
    "# SVR (rbf)\n",
    "from sklearn.svm import SVR\n",
    "svr_regressor = SVR(kernel='rbf')\n",
    "svr_regressor.fit(X_train, y_train)\n",
    "y_pred = svr_regressor.predict(X_test)\n",
    "y_train_pred = svr_regressor.predict(X_train)\n",
    "\n",
    "print_r2_score(y_train, y_test, y_train_pred, y_pred)"
   ]
  },
  {
   "cell_type": "code",
   "execution_count": 50,
   "metadata": {},
   "outputs": [
    {
     "output_type": "stream",
     "name": "stdout",
     "text": [
      "R2 Score(train) is 0.97875\nR2 Score(test) is 0.90222\n"
     ]
    }
   ],
   "source": [
    "# Random Forest\n",
    "from sklearn.ensemble import RandomForestRegressor\n",
    "rndm_regressor = RandomForestRegressor(n_estimators = 100, random_state=0)\n",
    "rndm_regressor.fit(X_train, y_train)\n",
    "y_pred = rndm_regressor.predict(X_test)\n",
    "y_train_pred = rndm_regressor.predict(X_train)\n",
    "\n",
    "print_r2_score(y_train, y_test, y_train_pred, y_pred)"
   ]
  },
  {
   "cell_type": "code",
   "execution_count": 53,
   "metadata": {},
   "outputs": [
    {
     "output_type": "stream",
     "name": "stdout",
     "text": [
      "Your submission was successfully saved!\n"
     ]
    }
   ],
   "source": [
    "# Predict\n",
    "test_dataset = pd.read_csv('data/test.csv')\n",
    "#test_dataset = NaN_check(test_dataset)\n",
    "test_dataset = NaN_processing(test_dataset)\n",
    "X_sub, y_sub, test_dataset = data_preprocessing(test_dataset, mode='predict')\n",
    "\n",
    "y_pred = rndm_regressor.predict(X_sub)\n",
    "\n",
    "output = pd.DataFrame({'Id': test_dataset['Id'], 'SalePrice': y_pred})\n",
    "output.to_csv('my_submission.csv', index=False)\n",
    "print(\"Your submission was successfully saved!\")"
   ]
  },
  {
   "cell_type": "code",
   "execution_count": null,
   "metadata": {},
   "outputs": [],
   "source": []
  }
 ]
}