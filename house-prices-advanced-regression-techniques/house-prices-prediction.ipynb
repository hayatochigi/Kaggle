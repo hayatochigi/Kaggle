{
 "metadata": {
  "language_info": {
   "codemirror_mode": {
    "name": "ipython",
    "version": 3
   },
   "file_extension": ".py",
   "mimetype": "text/x-python",
   "name": "python",
   "nbconvert_exporter": "python",
   "pygments_lexer": "ipython3",
   "version": "3.9.1-final"
  },
  "orig_nbformat": 2,
  "kernelspec": {
   "name": "python3",
   "display_name": "Python 3.9.1 64-bit",
   "metadata": {
    "interpreter": {
     "hash": "9fb7c04ba0ffa2a1ef89f25f031df2aa278caeb6f2e11ff94331ca49899ae0c0"
    }
   }
  }
 },
 "nbformat": 4,
 "nbformat_minor": 2,
 "cells": [
  {
   "cell_type": "code",
   "execution_count": 15,
   "metadata": {},
   "outputs": [],
   "source": [
    "import numpy as np\n",
    "import matplotlib.pyplot as plt\n",
    "import pandas as pd\n",
    "pd.set_option('display.max_columns', 81)"
   ]
  },
  {
   "cell_type": "code",
   "execution_count": 16,
   "metadata": {
    "tags": []
   },
   "outputs": [
    {
     "output_type": "stream",
     "name": "stdout",
     "text": [
      "Raw dataset shape: 1460 * 81\nNaN removed dataset shape: 1451 * 80\n"
     ]
    }
   ],
   "source": [
    "# trainデータを取得、NaN値などの状況を確認\n",
    "dataset = pd.read_csv('data/train.csv', sep=',')\n",
    "dataset_header = dataset.columns\n",
    "print(f'Raw dataset shape: {dataset.shape[0]} * {dataset.shape[1]}')\n",
    "\n",
    "# Idは不要のため削除\n",
    "dataset = dataset.drop('Id', axis=1)\n",
    "\n",
    "# NaNチェック\n",
    "# datasetから一列ずつ取り出して、nullが含まれている場合はそのカラム名を返す\n",
    "def NaN_check(dataset):\n",
    "    for data in dataset:\n",
    "        numof_null = dataset[data].isnull().sum()\n",
    "        if numof_null > 0:\n",
    "            # nullが占める全体の割合 (%)\n",
    "            null_ratio = numof_null/dataset.shape[0] * 100\n",
    "\n",
    "            # とりあえず試行として... 1%より小さい割合のデータセットについては削除\n",
    "            if null_ratio < 1:\n",
    "                dataset = dataset.dropna(subset=[data])\n",
    "            #else:\n",
    "                #print(f'{data} have {numof_null} NaN (ratio is {null_ratio:.2f}%)')\n",
    "    print(f'NaN removed dataset shape: {dataset.shape[0]} * {dataset.shape[1]}')\n",
    "\n",
    "    return dataset\n",
    "\n",
    "dataset = NaN_check(dataset)"
   ]
  },
  {
   "cell_type": "code",
   "execution_count": 17,
   "metadata": {},
   "outputs": [],
   "source": [
    "# NaNデータの処理\n",
    "\n",
    "# Alleyは\"No alley access\"=\"NA\"のため、NaN処理なし\n",
    "# BsmtQualは\"Basementなし\"=\"NA\"のため、NaN処理なし (BsmtCondも同様)\n",
    "# Bsmt系はBasementがなければNAになるが... なぜBsmtExposureとBsmtFinType2は38で他は37?\n",
    "\n",
    "# Garage系はそのまま。81 NaNであることは81の住宅でガレージがないことを示す\n",
    "# GarageYrBltは年のデータでNaNがある。せっかくなので後ほどmedianで置換\n",
    "\n",
    "# PoolQCは\"プールなし\"=\"NA\"のため、NaN処理なし\n",
    "# Fenceは\"Fenceなし\"=\"NA\"のため、NaN処理なし\n",
    "\n",
    "def NaN_processing(dataset):\n",
    "    # LotFrontageのNaN値処理: NaNの場合はストリートに面していないと見なしZeroで置き換え\n",
    "    dataset['LotFrontage'] = dataset['LotFrontage'].fillna(0)\n",
    "\n",
    "    # MiscFeatureはその他のカテゴリ。とりあえず割愛\n",
    "    dataset = dataset.drop('MiscFeature', axis=1)\n",
    "\n",
    "    return dataset\n",
    "\n",
    "dataset = NaN_processing(dataset)"
   ]
  },
  {
   "cell_type": "code",
   "execution_count": 18,
   "metadata": {},
   "outputs": [],
   "source": [
    "# Data Preprocessing\n",
    "def data_preprocessing(dataset):\n",
    "    from sklearn.preprocessing import LabelEncoder\n",
    "    label_encoder = LabelEncoder()\n",
    "\n",
    "    # dtypeが数値でないものはラベルエンコーディング\n",
    "    for x in dataset:\n",
    "        if np.dtype(dataset[x]) == object:\n",
    "            dataset[x] = label_encoder.fit_transform(dataset[x])\n",
    "\n",
    "    # GarageYrBltのNaNを補完\n",
    "    from sklearn.impute import SimpleImputer\n",
    "    imputer = SimpleImputer(missing_values=np.nan, strategy='median')\n",
    "    dataset['GarageYrBlt'] = imputer.fit_transform(np.reshape(dataset['GarageYrBlt'].values, (dataset['GarageYrBlt'].shape[0], 1)))[:,0]\n",
    "\n",
    "    #独立変数X, 従属変数y\n",
    "    X = dataset.iloc[:, :-1].values\n",
    "    y = dataset.iloc[:,-1].values\n",
    "\n",
    "    # ZScoreでスケーリング\n",
    "    from sklearn.preprocessing import StandardScaler\n",
    "    scaler = StandardScaler()\n",
    "    X = scaler.fit_transform(X)\n",
    "\n",
    "    return X\n",
    "\n",
    "X = data_preprocessing(dataset)\n",
    "\n",
    "# train, testデータへ分割\n",
    "from sklearn.model_selection import train_test_split\n",
    "X_train, X_test, y_train, y_test = train_test_split(X, y, test_size=0.2, random_state=0)"
   ]
  },
  {
   "cell_type": "code",
   "execution_count": 19,
   "metadata": {},
   "outputs": [
    {
     "output_type": "stream",
     "name": "stdout",
     "text": [
      "R2 Score(train) is 0.84957\nR2 Score(test) is 0.85439\n"
     ]
    }
   ],
   "source": [
    "# (Multiple) Linear Regression\n",
    "from sklearn.linear_model import LinearRegression\n",
    "regressor = LinearRegression()\n",
    "regressor.fit(X_train,y_train)\n",
    "\n",
    "y_pred = regressor.predict(X_test)\n",
    "y_train_pred = regressor.predict(X_train)\n",
    "\n",
    "# trainデータとtestデータそれぞれのR2スコアを表示する関数\n",
    "def print_r2_score(y_train, y_test, y_train_pred, y_pred):\n",
    "    from sklearn.metrics import r2_score\n",
    "    print(f'R2 Score(train) is {r2_score(y_train, y_train_pred):.5f}')\n",
    "    print(f'R2 Score(test) is {r2_score(y_test, y_pred):.5f}')\n",
    "\n",
    "print_r2_score(y_train, y_test, y_train_pred, y_pred)"
   ]
  },
  {
   "cell_type": "code",
   "execution_count": 20,
   "metadata": {},
   "outputs": [
    {
     "output_type": "stream",
     "name": "stdout",
     "text": [
      "R2 Score(train) is 1.00000\nR2 Score(test) is 0.38913\n"
     ]
    }
   ],
   "source": [
    "# Polymial Regression\n",
    "from sklearn.preprocessing import PolynomialFeatures\n",
    "polynomial_instance = PolynomialFeatures(degree = 2)\n",
    "X_poly_train = polynomial_instance.fit_transform(X_train)\n",
    "X_poly_test = polynomial_instance.fit_transform(X_test)\n",
    "\n",
    "regressor = LinearRegression()\n",
    "regressor.fit(X_poly_train, y_train)\n",
    "y_train_pred = regressor.predict(X_poly_train)\n",
    "y_pred = regressor.predict(X_poly_test)\n",
    "\n",
    "print_r2_score(y_train, y_test, y_train_pred, y_pred)"
   ]
  },
  {
   "cell_type": "code",
   "execution_count": 21,
   "metadata": {},
   "outputs": [
    {
     "output_type": "stream",
     "name": "stdout",
     "text": [
      "R2 Score(train) is 0.13559\nR2 Score(test) is 0.16839\n"
     ]
    }
   ],
   "source": [
    "# SVR\n",
    "from sklearn.svm import SVR\n",
    "svr_regressor = SVR(kernel='linear')\n",
    "svr_regressor.fit(X_train, y_train)\n",
    "y_pred = svr_regressor.predict(X_test)\n",
    "y_train_pred = svr_regressor.predict(X_train)\n",
    "\n",
    "print_r2_score(y_train, y_test, y_train_pred, y_pred)"
   ]
  },
  {
   "cell_type": "code",
   "execution_count": 23,
   "metadata": {},
   "outputs": [
    {
     "output_type": "stream",
     "name": "stdout",
     "text": [
      "R2 Score(train) is -0.04504\nR2 Score(test) is -0.03856\n"
     ]
    }
   ],
   "source": [
    "# SVR (rbf)\n",
    "from sklearn.svm import SVR\n",
    "svr_regressor = SVR(kernel='rbf')\n",
    "svr_regressor.fit(X_train, y_train)\n",
    "y_pred = svr_regressor.predict(X_test)\n",
    "y_train_pred = svr_regressor.predict(X_train)\n",
    "\n",
    "print_r2_score(y_train, y_test, y_train_pred, y_pred)"
   ]
  },
  {
   "cell_type": "code",
   "execution_count": 22,
   "metadata": {},
   "outputs": [
    {
     "output_type": "stream",
     "name": "stdout",
     "text": [
      "R2 Score(train) is 0.97806\nR2 Score(test) is 0.90044\n"
     ]
    }
   ],
   "source": [
    "# Random Forest\n",
    "from sklearn.ensemble import RandomForestRegressor\n",
    "rndm_regressor = RandomForestRegressor(n_estimators = 100, random_state=0)\n",
    "rndm_regressor.fit(X_train, y_train)\n",
    "y_pred = rndm_regressor.predict(X_test)\n",
    "y_train_pred = rndm_regressor.predict(X_train)\n",
    "\n",
    "print_r2_score(y_train, y_test, y_train_pred, y_pred)"
   ]
  }
 ]
}