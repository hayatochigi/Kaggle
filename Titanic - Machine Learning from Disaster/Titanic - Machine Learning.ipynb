{
 "metadata": {
  "language_info": {
   "codemirror_mode": {
    "name": "ipython",
    "version": 3
   },
   "file_extension": ".py",
   "mimetype": "text/x-python",
   "name": "python",
   "nbconvert_exporter": "python",
   "pygments_lexer": "ipython3",
   "version": "3.8.5-final"
  },
  "orig_nbformat": 2,
  "kernelspec": {
   "name": "python3",
   "display_name": "Python 3",
   "language": "python"
  }
 },
 "nbformat": 4,
 "nbformat_minor": 2,
 "cells": [
  {
   "cell_type": "code",
   "execution_count": 35,
   "metadata": {},
   "outputs": [],
   "source": [
    "import numpy as np\n",
    "import matplotlib.pyplot as plt\n",
    "import pandas as pd\n",
    "%matplotlib inline"
   ]
  },
  {
   "cell_type": "code",
   "execution_count": 36,
   "metadata": {},
   "outputs": [
    {
     "output_type": "stream",
     "name": "stdout",
     "text": [
      "     PassengerId  Survived  Pclass  \\\n0              1         0       3   \n1              2         1       1   \n2              3         1       3   \n3              4         1       1   \n4              5         0       3   \n..           ...       ...     ...   \n886          887         0       2   \n887          888         1       1   \n888          889         0       3   \n889          890         1       1   \n890          891         0       3   \n\n                                                  Name       Age  SibSp  \\\n0                              Braund, Mr. Owen Harris -0.565736      1   \n1    Cumings, Mrs. John Bradley (Florence Briggs Th...  0.663861      1   \n2                               Heikkinen, Miss. Laina -0.258337      0   \n3         Futrelle, Mrs. Jacques Heath (Lily May Peel)  0.433312      1   \n4                             Allen, Mr. William Henry  0.433312      0   \n..                                                 ...       ...    ...   \n886                              Montvila, Rev. Juozas -0.181487      0   \n887                       Graham, Miss. Margaret Edith -0.796286      0   \n888           Johnston, Miss. Catherine Helen \"Carrie\" -0.104637      1   \n889                              Behr, Mr. Karl Howell -0.258337      0   \n890                                Dooley, Mr. Patrick  0.202762      0   \n\n     Parch            Ticket      Fare Cabin  Family  Embarked_C  Embarked_Q  \\\n0        0         A/5 21171 -0.502445   NaN       1           0           0   \n1        0          PC 17599  0.786845   C85       1           1           0   \n2        0  STON/O2. 3101282 -0.488854   NaN       0           0           0   \n3        0            113803  0.420730  C123       1           0           0   \n4        0            373450 -0.486337   NaN       0           0           0   \n..     ...               ...       ...   ...     ...         ...         ...   \n886      0            211536 -0.386671   NaN       0           0           0   \n887      0            112053 -0.044381   B42       0           0           0   \n888      2        W./C. 6607 -0.176263   NaN       3           0           0   \n889      0            111369 -0.044381  C148       0           1           0   \n890      0            370376 -0.492378   NaN       0           0           1   \n\n     Embarked_S  Sex_male  \n0             1         1  \n1             0         0  \n2             1         0  \n3             1         0  \n4             1         1  \n..          ...       ...  \n886           1         1  \n887           1         0  \n888           1         0  \n889           0         1  \n890           0         1  \n\n[891 rows x 15 columns]\n"
     ]
    }
   ],
   "source": [
    "dataset = pd.read_csv('data/train.csv', sep=',')\n",
    "#print(dataset)\n",
    "\n",
    "#features = ['Pclass', 'Sex', 'Age', 'SibSp', 'Parch', 'Fare', 'Embarked']\n",
    "# notebookに倣ってfeaturesを絞ってみる\n",
    "features = [\"Pclass\", \"Sex_male\", \"Family\", \"Fare\", \"Embarked_S\", \"Embarked_C\", \"Embarked_Q\"]\n",
    "\n",
    "# 欠損値の確認\n",
    "#print(dataset.isnull().sum())\n",
    "def data_preprocessing(dataset):\n",
    "    # Embarkedの欠損率は約2%... 消すか --> 消さない！\n",
    "    #dataset = dataset.dropna(subset=['Embarked'])\n",
    "\n",
    "    # 家族人数を表すカラムを追加\n",
    "    dataset['Family'] = dataset['SibSp'] + dataset['Parch']\n",
    "\n",
    "    # Ageの欠損値にはpandaではなくscikit-learnのライブラリを使用\n",
    "    from sklearn.impute import SimpleImputer\n",
    "    imputer = SimpleImputer(missing_values = np.nan, strategy = 'median')\n",
    "    dataset['Age'] = imputer.fit_transform(dataset['Age'].values.reshape(-1,1))\n",
    "    dataset['Fare'] = imputer.fit_transform(dataset['Fare'].values.reshape(-1,1))\n",
    "    imputer = SimpleImputer(missing_values = np.nan, strategy = 'most_frequent')\n",
    "    dataset['Embarked'] = imputer.fit_transform(dataset['Embarked'].values.reshape(-1,1))\n",
    "\n",
    "    # Sex column, Embarkedをエンコーディング\n",
    "    '''\n",
    "    from sklearn.preprocessing import LabelEncoder\n",
    "    label_encoder = LabelEncoder()\n",
    "    dataset['Embarked'] = label_encoder.fit_transform(dataset['Embarked'])\n",
    "    dataset['Sex'] = label_encoder.fit_transform(dataset['Sex'])\n",
    "    '''\n",
    "    dataset = pd.get_dummies(dataset, columns=['Embarked'], drop_first=False)\n",
    "    # SexはLabelEncodingを用いると多重共線性が発生? OneHot Encodingへ変更\n",
    "    dataset = pd.get_dummies(dataset, columns=['Sex'], drop_first=True)\n",
    "\n",
    "    # Features Scaling\n",
    "    from sklearn.preprocessing import StandardScaler\n",
    "    scaler = StandardScaler()\n",
    "    dataset['Age'] = scaler.fit_transform(dataset['Age'].values.reshape(-1,1))\n",
    "    dataset['Fare'] = scaler.fit_transform(dataset['Fare'].values.reshape(-1,1))\n",
    "\n",
    "\n",
    "    X = dataset.loc[:,features].values\n",
    "    if 'Survived' in dataset.columns:\n",
    "        y = dataset.loc[:,'Survived'].values\n",
    "    else:\n",
    "        y = np.nan\n",
    "\n",
    "    # それ以外の欠損はimpute\n",
    "    X = imputer.fit_transform(X)\n",
    "    \n",
    "    return X, y, dataset\n",
    "\n",
    "X, y, dataset = data_preprocessing(dataset)\n",
    "print(dataset)"
   ]
  },
  {
   "cell_type": "code",
   "execution_count": 37,
   "metadata": {},
   "outputs": [],
   "source": [
    "from sklearn.model_selection import train_test_split\n",
    "X_train, X_test, y_train, y_test = train_test_split(X, y)"
   ]
  },
  {
   "cell_type": "code",
   "execution_count": 38,
   "metadata": {},
   "outputs": [
    {
     "output_type": "stream",
     "name": "stdout",
     "text": [
      "[[115  14]\n [ 25  69]]\naccuracy_score = 0.82511\n"
     ]
    }
   ],
   "source": [
    "# Logistic Regression\n",
    "from sklearn.linear_model import LogisticRegression\n",
    "logi_classifier = LogisticRegression()\n",
    "logi_classifier.fit(X_train, y_train)\n",
    "y_pred = logi_classifier.predict(X_test)\n",
    "\n",
    "from sklearn.metrics import confusion_matrix, accuracy_score\n",
    "def create_confusion_matrix(y_test, y_pred):\n",
    "    cm = confusion_matrix(y_test, y_pred)\n",
    "    print(cm)\n",
    "    print(f'accuracy_score = {accuracy_score(y_test,y_pred):.5f}')\n",
    "\n",
    "create_confusion_matrix(y_test, y_pred)"
   ]
  },
  {
   "cell_type": "code",
   "execution_count": 39,
   "metadata": {},
   "outputs": [
    {
     "output_type": "stream",
     "name": "stdout",
     "text": [
      "[[122   7]\n [ 51  43]]\naccuracy_score = 0.73991\n"
     ]
    }
   ],
   "source": [
    "# K-Nearest Neighbors\n",
    "from sklearn.neighbors import KNeighborsClassifier\n",
    "k_classifier = KNeighborsClassifier(n_neighbors=2, metric='minkowski', p=1)\n",
    "k_classifier.fit(X_train, y_train)\n",
    "y_pred = k_classifier.predict(X_test)\n",
    "\n",
    "create_confusion_matrix(y_test, y_pred)"
   ]
  },
  {
   "cell_type": "code",
   "execution_count": 40,
   "metadata": {},
   "outputs": [
    {
     "output_type": "stream",
     "name": "stdout",
     "text": [
      "[[112  17]\n [ 26  68]]\naccuracy_score = 0.80717\n"
     ]
    }
   ],
   "source": [
    "# Support Vector Machine\n",
    "from sklearn.svm import SVC\n",
    "svm_classifier = SVC(kernel='linear', random_state=0)\n",
    "svm_classifier.fit(X_train, y_train)\n",
    "y_pred = svm_classifier.predict(X_test)\n",
    "\n",
    "create_confusion_matrix(y_test, y_pred)"
   ]
  },
  {
   "cell_type": "code",
   "execution_count": 41,
   "metadata": {},
   "outputs": [
    {
     "output_type": "stream",
     "name": "stdout",
     "text": [
      "[[118  11]\n [ 34  60]]\naccuracy_score = 0.79821\n"
     ]
    }
   ],
   "source": [
    "# Naive Bayes\n",
    "from sklearn.naive_bayes import GaussianNB\n",
    "naive_classifier = GaussianNB()\n",
    "naive_classifier.fit(X_train, y_train)\n",
    "y_pred = naive_classifier.predict(X_test)\n",
    "\n",
    "create_confusion_matrix(y_test, y_pred)"
   ]
  },
  {
   "cell_type": "code",
   "execution_count": 44,
   "metadata": {},
   "outputs": [
    {
     "output_type": "stream",
     "name": "stdout",
     "text": [
      "[[121   8]\n [ 30  64]]\naccuracy_score = 0.82960\n"
     ]
    }
   ],
   "source": [
    "# Random Forest Classification\n",
    "from sklearn.ensemble import RandomForestClassifier\n",
    "rndm_classifier = RandomForestClassifier(n_estimators=100, criterion='gini', bootstrap=False, max_features=2, min_samples_leaf=5, min_samples_split=10, random_state=0)\n",
    "rndm_classifier.fit(X_train, y_train)\n",
    "y_pred = rndm_classifier.predict(X_test)\n",
    "\n",
    "create_confusion_matrix(y_test, y_pred)"
   ]
  },
  {
   "cell_type": "code",
   "execution_count": 43,
   "metadata": {},
   "outputs": [
    {
     "output_type": "execute_result",
     "data": {
      "text/plain": [
       "{'bootstrap': False,\n",
       " 'criterion': 'gini',\n",
       " 'max_features': 2,\n",
       " 'min_samples_leaf': 5,\n",
       " 'min_samples_split': 10,\n",
       " 'n_estimators': 100}"
      ]
     },
     "metadata": {},
     "execution_count": 43
    }
   ],
   "source": [
    "# grid search\n",
    "from sklearn.model_selection import GridSearchCV\n",
    "grid_parameters = [\n",
    "    {'n_estimators': [1, 2, 5, 10, 100, 1000], \n",
    "    'criterion': ['gini', 'entropy'],\n",
    "    'max_features': [1, 2, 5, 10, 20],\n",
    "    'min_samples_split': [1, 2, 5, 10, 20],\n",
    "    'min_samples_leaf': [1, 2, 5, 10, 20],\n",
    "    'bootstrap': [True, False],\n",
    "    }\n",
    "]\n",
    "\n",
    "grid_search = GridSearchCV(RandomForestClassifier(), grid_parameters, cv=5, scoring='accuracy', n_jobs = -1)\n",
    "grid_search.fit(X_train, y_train)\n",
    "grid_search.best_params_"
   ]
  },
  {
   "cell_type": "code",
   "execution_count": 34,
   "metadata": {},
   "outputs": [
    {
     "output_type": "stream",
     "name": "stdout",
     "text": [
      "Your submission was successfully saved!\n"
     ]
    }
   ],
   "source": [
    "# Predict\n",
    "test_dataset = pd.read_csv('data/test.csv')\n",
    "X, y, test_dataset = data_preprocessing(test_dataset)\n",
    "y_pred = logi_classifier.predict(X)\n",
    "\n",
    "output = pd.DataFrame({'PassengerId': test_dataset['PassengerId'], 'Survived': y_pred})\n",
    "output.to_csv('my_submission.csv', index=False)\n",
    "print(\"Your submission was successfully saved!\")"
   ]
  },
  {
   "cell_type": "code",
   "execution_count": null,
   "metadata": {},
   "outputs": [],
   "source": []
  }
 ]
}