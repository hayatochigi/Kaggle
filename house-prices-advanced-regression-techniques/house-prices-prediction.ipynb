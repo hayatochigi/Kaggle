{
 "metadata": {
  "language_info": {
   "codemirror_mode": {
    "name": "ipython",
    "version": 3
   },
   "file_extension": ".py",
   "mimetype": "text/x-python",
   "name": "python",
   "nbconvert_exporter": "python",
   "pygments_lexer": "ipython3",
   "version": "3.9.1-final"
  },
  "orig_nbformat": 2,
  "kernelspec": {
   "name": "python3",
   "display_name": "Python 3.9.1 64-bit",
   "metadata": {
    "interpreter": {
     "hash": "9fb7c04ba0ffa2a1ef89f25f031df2aa278caeb6f2e11ff94331ca49899ae0c0"
    }
   }
  }
 },
 "nbformat": 4,
 "nbformat_minor": 2,
 "cells": [
  {
   "cell_type": "code",
   "execution_count": 133,
   "metadata": {},
   "outputs": [],
   "source": [
    "import numpy as np\n",
    "import matplotlib.pyplot as plt\n",
    "import pandas as pd\n",
    "pd.set_option('display.max_columns', 81)"
   ]
  },
  {
   "cell_type": "code",
   "execution_count": 220,
   "metadata": {
    "tags": []
   },
   "outputs": [
    {
     "output_type": "stream",
     "name": "stdout",
     "text": [
      "Raw dataset shape: 1460 * 81\nLotFrontage have 259 NaN (ratio is 17.74%)\nAlley have 1369 NaN (ratio is 93.77%)\nBsmtQual have 37 NaN (ratio is 2.55%)\nBsmtCond have 37 NaN (ratio is 2.55%)\nBsmtExposure have 38 NaN (ratio is 2.62%)\nBsmtFinType1 have 37 NaN (ratio is 2.55%)\nBsmtFinType2 have 38 NaN (ratio is 2.62%)\nFireplaceQu have 685 NaN (ratio is 47.21%)\nGarageType have 81 NaN (ratio is 5.58%)\nGarageYrBlt have 81 NaN (ratio is 5.58%)\nGarageFinish have 81 NaN (ratio is 5.58%)\nGarageQual have 81 NaN (ratio is 5.58%)\nGarageCond have 81 NaN (ratio is 5.58%)\nPoolQC have 1444 NaN (ratio is 99.52%)\nFence have 1170 NaN (ratio is 80.63%)\nMiscFeature have 1397 NaN (ratio is 96.28%)\nNaN removed dataset shape: 1451 * 80\n"
     ]
    }
   ],
   "source": [
    "# trainデータを取得、NaN値などの状況を確認\n",
    "dataset = pd.read_csv('data/train.csv', sep=',')\n",
    "dataset_header = dataset.columns\n",
    "print(f'Raw dataset shape: {dataset.shape[0]} * {dataset.shape[1]}')\n",
    "\n",
    "# Idは不要のため削除\n",
    "dataset = dataset.drop('Id', axis=1)\n",
    "\n",
    "# NaNチェック\n",
    "# datasetから一列ずつ取り出して、nullが含まれている場合はそのカラム名を返す\n",
    "for data in dataset:\n",
    "    numof_null = dataset[data].isnull().sum()\n",
    "    if numof_null > 0:\n",
    "        # nullが占める全体の割合 (%)\n",
    "        null_ratio = numof_null/dataset.shape[0] * 100\n",
    "\n",
    "        # とりあえず試行として... 1%より小さい割合のデータセットについては削除\n",
    "        if null_ratio < 1:\n",
    "            dataset = dataset.dropna(subset=[data])\n",
    "        else:\n",
    "            print(f'{data} have {numof_null} NaN (ratio is {null_ratio:.2f}%)')\n",
    "print(f'NaN removed dataset shape: {dataset.shape[0]} * {dataset.shape[1]}')"
   ]
  },
  {
   "cell_type": "code",
   "execution_count": 221,
   "metadata": {},
   "outputs": [],
   "source": [
    "# NaNデータの処理\n",
    "\n",
    "# LotFrontageのNaN値処理: NaNの場合はストリートに面していないと見なしZeroで置き換え\n",
    "dataset['LotFrontage'] = dataset['LotFrontage'].fillna(0)\n",
    "\n",
    "# Alleyは\"No alley access\"=\"NA\"のため、NaN処理なし\n",
    "\n",
    "# BsmtQualは\"Basementなし\"=\"NA\"のため、NaN処理なし (BsmtCondも同様)\n",
    "# Bsmt系はBasementがなければNAになるが... なぜBsmtExposureとBsmtFinType2は38で他は37?\n",
    "\n",
    "# Garage系はそのまま。81 NaNであることは81の住宅でガレージがないことを示す\n",
    "# GarageYrBltは年のデータでNaNがある。せっかくなので後ほどmedianで置換\n",
    "\n",
    "# PoolQCは\"プールなし\"=\"NA\"のため、NaN処理なし\n",
    "# Fenceは\"Fenceなし\"=\"NA\"のため、NaN処理なし\n",
    "\n",
    "# MiscFeatureはその他のカテゴリ。とりあえず割愛\n",
    "dataset = dataset.drop('MiscFeature', axis=1)"
   ]
  },
  {
   "cell_type": "code",
   "execution_count": 222,
   "metadata": {},
   "outputs": [],
   "source": [
    "# Data Preprocessing\n",
    "from sklearn.preprocessing import LabelEncoder\n",
    "label_encoder = LabelEncoder()\n",
    "\n",
    "# dtypeが数値でないものはラベルエンコーディング\n",
    "for x in dataset:\n",
    "    if np.dtype(dataset[x]) == object:\n",
    "        dataset[x] = label_encoder.fit_transform(dataset[x])\n",
    "\n",
    "# GarageYrBltのNaNを補完\n",
    "from sklearn.impute import SimpleImputer\n",
    "imputer = SimpleImputer(missing_values=np.nan, strategy='median')\n",
    "dataset['GarageYrBlt'] = imputer.fit_transform(np.reshape(dataset['GarageYrBlt'].values, (dataset['GarageYrBlt'].shape[0], 1)))[:,0]\n",
    "\n",
    "#独立変数\n",
    "X = dataset.iloc[:, :-1].values\n",
    "y = dataset.iloc[:,-1].values\n",
    "from sklearn.preprocessing import StandardScaler\n",
    "#scaler = StandardScaler()\n",
    "#X = scaler.fit_transform(X)"
   ]
  },
  {
   "cell_type": "code",
   "execution_count": 231,
   "metadata": {},
   "outputs": [
    {
     "output_type": "stream",
     "name": "stdout",
     "text": [
      "R2 Score(train) is 0.8495729697947485\nR2 Score(test) is 0.8542918774208654\n"
     ]
    }
   ],
   "source": [
    "# Regression\n",
    "from sklearn.model_selection import train_test_split\n",
    "X_train, X_test, y_train, y_test = train_test_split(X, y, test_size=0.2, random_state=0)\n",
    "\n",
    "from sklearn.linear_model import LinearRegression\n",
    "regressor = LinearRegression()\n",
    "regressor.fit(X_train,y_train)\n",
    "\n",
    "y_pred = regressor.predict(X_test)\n",
    "y_train_pred = regressor.predict(X_train)\n",
    "from sklearn.metrics import r2_score\n",
    "print(f'R2 Score(train) is {r2_score(y_train, y_train_pred)}')\n",
    "print(f'R2 Score(test) is {r2_score(y_test, y_pred)}')"
   ]
  },
  {
   "cell_type": "code",
   "execution_count": null,
   "metadata": {},
   "outputs": [],
   "source": []
  }
 ]
}