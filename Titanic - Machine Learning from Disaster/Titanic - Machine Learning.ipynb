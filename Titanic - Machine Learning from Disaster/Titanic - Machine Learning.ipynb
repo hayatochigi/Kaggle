{
 "metadata": {
  "language_info": {
   "codemirror_mode": {
    "name": "ipython",
    "version": 3
   },
   "file_extension": ".py",
   "mimetype": "text/x-python",
   "name": "python",
   "nbconvert_exporter": "python",
   "pygments_lexer": "ipython3",
   "version": "3.8.5-final"
  },
  "orig_nbformat": 2,
  "kernelspec": {
   "name": "python3",
   "display_name": "Python 3",
   "language": "python"
  }
 },
 "nbformat": 4,
 "nbformat_minor": 2,
 "cells": [
  {
   "cell_type": "code",
   "execution_count": 49,
   "metadata": {},
   "outputs": [],
   "source": [
    "import numpy as np\n",
    "import matplotlib.pyplot as plt\n",
    "import pandas as pd\n",
    "%matplotlib inline"
   ]
  },
  {
   "cell_type": "code",
   "execution_count": 50,
   "metadata": {},
   "outputs": [],
   "source": [
    "dataset = pd.read_csv('data/train.csv', sep=',')\n",
    "#print(dataset)"
   ]
  },
  {
   "cell_type": "code",
   "execution_count": 51,
   "metadata": {},
   "outputs": [],
   "source": [
    "#features = ['Pclass', 'Sex', 'Age', 'SibSp', 'Parch', 'Fare', 'Embarked']\n",
    "# notebookに倣ってfeaturesを絞ってみる\n",
    "features = [\"Pclass\", \"Sex_male\", \"SibSp\", \"Parch\"]\n",
    "\n",
    "# 欠損値の確認\n",
    "#print(dataset.isnull().sum())\n",
    "def data_preprocessing(dataset):\n",
    "    # Embarkedの欠損率は約2%... 消すか\n",
    "    dataset = dataset.dropna(subset=['Embarked'])\n",
    "\n",
    "    # Sex column, Embarkedをエンコーディング\n",
    "    from sklearn.preprocessing import LabelEncoder\n",
    "    label_encoder = LabelEncoder()\n",
    "    dataset['Embarked'] = label_encoder.fit_transform(dataset['Embarked'])\n",
    "\n",
    "    # SexはLabelEncodingを用いると多重共線性が発生? OneHot Encodingへ変更\n",
    "    #dataset['Sex'] = label_encoder.fit_transform(dataset['Sex'])\n",
    "    dataset = pd.get_dummies(dataset, columns=['Sex'], drop_first=True)\n",
    "\n",
    "    # Ageの欠損値にはpandaではなくscikit-learnのライブラリを使用\n",
    "    from sklearn.impute import SimpleImputer\n",
    "    imputer = SimpleImputer(missing_values = np.nan, strategy = 'median')\n",
    "    dataset['Age'] = imputer.fit_transform(dataset['Age'].values.reshape(-1,1))\n",
    "\n",
    "    X = dataset.loc[:,features].values\n",
    "    if 'Survived' in dataset.columns:\n",
    "        y = dataset.loc[:,'Survived'].values\n",
    "    else:\n",
    "        y = np.nan\n",
    "\n",
    "    # それ以外の欠損はimpute\n",
    "    X = imputer.fit_transform(X)\n",
    "\n",
    "    # Features Scaling\n",
    "    from sklearn.preprocessing import StandardScaler\n",
    "    scaler = StandardScaler()\n",
    "    X = scaler.fit_transform(X)\n",
    "\n",
    "    return X, y, dataset\n",
    "\n",
    "X, y, dataset = data_preprocessing(dataset)"
   ]
  },
  {
   "cell_type": "code",
   "execution_count": 52,
   "metadata": {},
   "outputs": [],
   "source": [
    "from sklearn.model_selection import train_test_split\n",
    "X_train, X_test, y_train, y_test = train_test_split(X, y)"
   ]
  },
  {
   "cell_type": "code",
   "execution_count": 53,
   "metadata": {},
   "outputs": [
    {
     "output_type": "stream",
     "name": "stdout",
     "text": [
      "[[122  14]\n [ 30  57]]\naccuracy_score = 0.80269\n"
     ]
    }
   ],
   "source": [
    "# Logistic Regression\n",
    "from sklearn.linear_model import LogisticRegression\n",
    "logi_classifier = LogisticRegression()\n",
    "logi_classifier.fit(X_train, y_train)\n",
    "y_pred = logi_classifier.predict(X_test)\n",
    "\n",
    "from sklearn.metrics import confusion_matrix, accuracy_score\n",
    "def create_confusion_matrix(y_test, y_pred):\n",
    "    cm = confusion_matrix(y_test, y_pred)\n",
    "    print(cm)\n",
    "    print(f'accuracy_score = {accuracy_score(y_test,y_pred):.5f}')\n",
    "\n",
    "create_confusion_matrix(y_test, y_pred)"
   ]
  },
  {
   "cell_type": "code",
   "execution_count": 54,
   "metadata": {},
   "outputs": [
    {
     "output_type": "stream",
     "name": "stdout",
     "text": [
      "[[128   8]\n [ 49  38]]\naccuracy_score = 0.74439\n"
     ]
    }
   ],
   "source": [
    "# K-Nearest Neighbors\n",
    "from sklearn.neighbors import KNeighborsClassifier\n",
    "k_classifier = KNeighborsClassifier(n_neighbors=2, metric='minkowski', p=1)\n",
    "k_classifier.fit(X_train, y_train)\n",
    "y_pred = k_classifier.predict(X_test)\n",
    "\n",
    "create_confusion_matrix(y_test, y_pred)"
   ]
  },
  {
   "cell_type": "code",
   "execution_count": 55,
   "metadata": {},
   "outputs": [
    {
     "output_type": "stream",
     "name": "stdout",
     "text": [
      "[[119  17]\n [ 30  57]]\naccuracy_score = 0.78924\n"
     ]
    }
   ],
   "source": [
    "# Support Vector Machine\n",
    "from sklearn.svm import SVC\n",
    "svm_classifier = SVC(kernel='linear', random_state=0)\n",
    "svm_classifier.fit(X_train, y_train)\n",
    "y_pred = svm_classifier.predict(X_test)\n",
    "\n",
    "create_confusion_matrix(y_test, y_pred)"
   ]
  },
  {
   "cell_type": "code",
   "execution_count": 56,
   "metadata": {},
   "outputs": [
    {
     "output_type": "stream",
     "name": "stdout",
     "text": [
      "[[118  18]\n",
      " [ 27  60]]\n",
      "accuracy_score = 0.79821\n"
     ]
    }
   ],
   "source": [
    "# Naive Bayes\n",
    "from sklearn.naive_bayes import GaussianNB\n",
    "naive_classifier = GaussianNB()\n",
    "naive_classifier.fit(X_train, y_train)\n",
    "y_pred = naive_classifier.predict(X_test)\n",
    "\n",
    "create_confusion_matrix(y_test, y_pred)"
   ]
  },
  {
   "cell_type": "code",
   "execution_count": 57,
   "metadata": {},
   "outputs": [
    {
     "output_type": "stream",
     "name": "stdout",
     "text": [
      "[[117  19]\n [ 25  62]]\naccuracy_score = 0.80269\n"
     ]
    }
   ],
   "source": [
    "# Random Forest Classification\n",
    "from sklearn.ensemble import RandomForestClassifier\n",
    "rndm_classifier = RandomForestClassifier(n_estimators=100, criterion='entropy', random_state=0)\n",
    "rndm_classifier.fit(X_train, y_train)\n",
    "y_pred = rndm_classifier.predict(X_test)\n",
    "\n",
    "create_confusion_matrix(y_test, y_pred)"
   ]
  },
  {
   "cell_type": "code",
   "execution_count": 58,
   "metadata": {},
   "outputs": [
    {
     "output_type": "stream",
     "name": "stdout",
     "text": [
      "Your submission was successfully saved!\n"
     ]
    }
   ],
   "source": [
    "# Predict\n",
    "test_dataset = pd.read_csv('data/test.csv')\n",
    "X, y, test_dataset = data_preprocessing(test_dataset)\n",
    "y_pred = logi_classifier.predict(X)\n",
    "\n",
    "output = pd.DataFrame({'PassengerId': test_dataset['PassengerId'], 'Survived': y_pred})\n",
    "output.to_csv('my_submission.csv', index=False)\n",
    "print(\"Your submission was successfully saved!\")"
   ]
  },
  {
   "cell_type": "code",
   "execution_count": null,
   "metadata": {},
   "outputs": [],
   "source": []
  }
 ]
}