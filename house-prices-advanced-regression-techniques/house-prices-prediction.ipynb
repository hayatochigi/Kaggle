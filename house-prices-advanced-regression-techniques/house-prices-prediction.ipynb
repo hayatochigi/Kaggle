{
 "metadata": {
  "language_info": {
   "codemirror_mode": {
    "name": "ipython",
    "version": 3
   },
   "file_extension": ".py",
   "mimetype": "text/x-python",
   "name": "python",
   "nbconvert_exporter": "python",
   "pygments_lexer": "ipython3",
   "version": "3.6.12-final"
  },
  "orig_nbformat": 2,
  "kernelspec": {
   "name": "python3",
   "display_name": "Python 3",
   "language": "python"
  }
 },
 "nbformat": 4,
 "nbformat_minor": 2,
 "cells": [
  {
   "cell_type": "code",
   "execution_count": 1,
   "metadata": {},
   "outputs": [],
   "source": [
    "import numpy as np\n",
    "import matplotlib.pyplot as plt\n",
    "import pandas as pd\n",
    "pd.set_option('display.max_columns', 81)"
   ]
  },
  {
   "cell_type": "code",
   "execution_count": 39,
   "metadata": {
    "tags": []
   },
   "outputs": [],
   "source": [
    "# trainデータを取得、NaN値などの状況を確認\n",
    "dataset = pd.read_csv('data/train.csv', sep=',')\n",
    "test_dataset = pd.read_csv('data/test.csv', sep=',')"
   ]
  },
  {
   "cell_type": "code",
   "execution_count": 41,
   "metadata": {},
   "outputs": [
    {
     "output_type": "stream",
     "name": "stdout",
     "text": [
      "NaN Check: SalePrice       0\nOverallQual     0\nGrLivArea       0\nGarageCars      0\nGarageArea      0\nTotalBsmtSF     0\n1stFlrSF        0\nFullBath        0\nTotRmsAbvGrd    0\nYearBuilt       0\nFireplaces      0\ndtype: int64\nIndex(['SalePrice', 'OverallQual', 'GrLivArea', 'GarageCars', 'GarageArea',\n       'TotalBsmtSF', '1stFlrSF', 'FullBath', 'TotRmsAbvGrd', 'YearBuilt',\n       'Fireplaces'],\n      dtype='object')\n"
     ]
    },
    {
     "output_type": "execute_result",
     "data": {
      "text/plain": [
       "      SalePrice  OverallQual  GrLivArea  GarageCars  GarageArea  TotalBsmtSF  \\\n",
       "0     12.247694            7   0.548398           2    0.359050    -0.476217   \n",
       "1     12.109011            6  -0.387473           2   -0.056722     0.511373   \n",
       "2     12.317167            7   0.682358           2    0.642531    -0.320538   \n",
       "3     11.849398            7   0.560983           3    0.803170    -0.719466   \n",
       "4     12.429216            8   1.321795           3    1.719758     0.226772   \n",
       "...         ...          ...        ...         ...         ...          ...   \n",
       "1455  12.072541            6   0.432759           2   -0.056722    -0.240266   \n",
       "1456  12.254863            6   1.141423           2    0.132265     1.192469   \n",
       "1457  12.493130            7   1.514650           1   -1.039456     0.243799   \n",
       "1458  11.864462            5  -0.872945           1   -1.096152     0.063795   \n",
       "1459  11.901583            5  -0.402154           1   -0.926064     0.496778   \n",
       "\n",
       "      1stFlrSF  FullBath  TotRmsAbvGrd  YearBuilt  Fireplaces  \n",
       "0    -0.815867         2             8  -1.044786           0  \n",
       "1     0.431829         2             6  -0.185182           1  \n",
       "2    -0.584113         2             6  -0.978663           1  \n",
       "3    -0.443971         1             7   1.798520           1  \n",
       "4     0.119110         2             9  -0.945601           1  \n",
       "...        ...       ...           ...        ...         ...  \n",
       "1455 -0.470840         2             7  -0.945601           1  \n",
       "1456  2.027033         2             7  -0.152120           2  \n",
       "1457  0.237606         2             9   1.071163           2  \n",
       "1458 -0.074697         1             5   0.773608           0  \n",
       "1459  0.416511         1             6   0.211559           0  \n",
       "\n",
       "[1454 rows x 11 columns]"
      ],
      "text/html": "<div>\n<style scoped>\n    .dataframe tbody tr th:only-of-type {\n        vertical-align: middle;\n    }\n\n    .dataframe tbody tr th {\n        vertical-align: top;\n    }\n\n    .dataframe thead th {\n        text-align: right;\n    }\n</style>\n<table border=\"1\" class=\"dataframe\">\n  <thead>\n    <tr style=\"text-align: right;\">\n      <th></th>\n      <th>SalePrice</th>\n      <th>OverallQual</th>\n      <th>GrLivArea</th>\n      <th>GarageCars</th>\n      <th>GarageArea</th>\n      <th>TotalBsmtSF</th>\n      <th>1stFlrSF</th>\n      <th>FullBath</th>\n      <th>TotRmsAbvGrd</th>\n      <th>YearBuilt</th>\n      <th>Fireplaces</th>\n    </tr>\n  </thead>\n  <tbody>\n    <tr>\n      <th>0</th>\n      <td>12.247694</td>\n      <td>7</td>\n      <td>0.548398</td>\n      <td>2</td>\n      <td>0.359050</td>\n      <td>-0.476217</td>\n      <td>-0.815867</td>\n      <td>2</td>\n      <td>8</td>\n      <td>-1.044786</td>\n      <td>0</td>\n    </tr>\n    <tr>\n      <th>1</th>\n      <td>12.109011</td>\n      <td>6</td>\n      <td>-0.387473</td>\n      <td>2</td>\n      <td>-0.056722</td>\n      <td>0.511373</td>\n      <td>0.431829</td>\n      <td>2</td>\n      <td>6</td>\n      <td>-0.185182</td>\n      <td>1</td>\n    </tr>\n    <tr>\n      <th>2</th>\n      <td>12.317167</td>\n      <td>7</td>\n      <td>0.682358</td>\n      <td>2</td>\n      <td>0.642531</td>\n      <td>-0.320538</td>\n      <td>-0.584113</td>\n      <td>2</td>\n      <td>6</td>\n      <td>-0.978663</td>\n      <td>1</td>\n    </tr>\n    <tr>\n      <th>3</th>\n      <td>11.849398</td>\n      <td>7</td>\n      <td>0.560983</td>\n      <td>3</td>\n      <td>0.803170</td>\n      <td>-0.719466</td>\n      <td>-0.443971</td>\n      <td>1</td>\n      <td>7</td>\n      <td>1.798520</td>\n      <td>1</td>\n    </tr>\n    <tr>\n      <th>4</th>\n      <td>12.429216</td>\n      <td>8</td>\n      <td>1.321795</td>\n      <td>3</td>\n      <td>1.719758</td>\n      <td>0.226772</td>\n      <td>0.119110</td>\n      <td>2</td>\n      <td>9</td>\n      <td>-0.945601</td>\n      <td>1</td>\n    </tr>\n    <tr>\n      <th>...</th>\n      <td>...</td>\n      <td>...</td>\n      <td>...</td>\n      <td>...</td>\n      <td>...</td>\n      <td>...</td>\n      <td>...</td>\n      <td>...</td>\n      <td>...</td>\n      <td>...</td>\n      <td>...</td>\n    </tr>\n    <tr>\n      <th>1455</th>\n      <td>12.072541</td>\n      <td>6</td>\n      <td>0.432759</td>\n      <td>2</td>\n      <td>-0.056722</td>\n      <td>-0.240266</td>\n      <td>-0.470840</td>\n      <td>2</td>\n      <td>7</td>\n      <td>-0.945601</td>\n      <td>1</td>\n    </tr>\n    <tr>\n      <th>1456</th>\n      <td>12.254863</td>\n      <td>6</td>\n      <td>1.141423</td>\n      <td>2</td>\n      <td>0.132265</td>\n      <td>1.192469</td>\n      <td>2.027033</td>\n      <td>2</td>\n      <td>7</td>\n      <td>-0.152120</td>\n      <td>2</td>\n    </tr>\n    <tr>\n      <th>1457</th>\n      <td>12.493130</td>\n      <td>7</td>\n      <td>1.514650</td>\n      <td>1</td>\n      <td>-1.039456</td>\n      <td>0.243799</td>\n      <td>0.237606</td>\n      <td>2</td>\n      <td>9</td>\n      <td>1.071163</td>\n      <td>2</td>\n    </tr>\n    <tr>\n      <th>1458</th>\n      <td>11.864462</td>\n      <td>5</td>\n      <td>-0.872945</td>\n      <td>1</td>\n      <td>-1.096152</td>\n      <td>0.063795</td>\n      <td>-0.074697</td>\n      <td>1</td>\n      <td>5</td>\n      <td>0.773608</td>\n      <td>0</td>\n    </tr>\n    <tr>\n      <th>1459</th>\n      <td>11.901583</td>\n      <td>5</td>\n      <td>-0.402154</td>\n      <td>1</td>\n      <td>-0.926064</td>\n      <td>0.496778</td>\n      <td>0.416511</td>\n      <td>1</td>\n      <td>6</td>\n      <td>0.211559</td>\n      <td>0</td>\n    </tr>\n  </tbody>\n</table>\n<p>1454 rows × 11 columns</p>\n</div>"
     },
     "metadata": {},
     "execution_count": 41
    }
   ],
   "source": [
    "# SalePriceとの相関を確認し、上位x位を採用する\n",
    "# 一旦築年数は時系列データのため外す\n",
    "correlation = dataset.corr()\n",
    "larger_corr_cols = correlation.nlargest(15, 'SalePrice')['SalePrice'].index.drop(['YearRemodAdd', 'GarageYrBlt', 'MasVnrArea', 'BsmtFinSF1'])\n",
    "\n",
    "dataset['YearBuilt'] = dataset['YrSold'] - dataset['YearBuilt']\n",
    "dataset_train = dataset.loc[:,larger_corr_cols]\n",
    "print(f'NaN Check: {dataset_train.isnull().sum()}')\n",
    "\n",
    "print(larger_corr_cols)\n",
    "\n",
    "# log targetsにおけるOutlierを削除 \n",
    "# EDA検証により、SalePriceの外れ値に対応したIdを削除\n",
    "outliers = [ 524, 1299]\n",
    "for x in outliers:\n",
    "    dataset = dataset.drop(dataset[dataset['Id'] == x].index)\n",
    "    \n",
    "# Electricalは1つのみ欠損なので行自体を削除\n",
    "dataset.dropna(subset=['Electrical'])\n",
    "\n",
    "df_train = dataset.loc[:,larger_corr_cols]\n",
    "\n",
    "# Logを取って正規分布へ変換\n",
    "log_cols = ['GrLivArea', '1stFlrSF', 'SalePrice']\n",
    "df_train.loc[:,log_cols] = np.log(df_train.loc[:,log_cols])\n",
    "\n",
    "from sklearn.preprocessing import StandardScaler\n",
    "scaler = StandardScaler()\n",
    "scale_target = ['GrLivArea', 'TotalBsmtSF', '1stFlrSF', 'GarageArea','YearBuilt']\n",
    "df_train.loc[:,scale_target] = scaler.fit_transform(df_train.loc[:,scale_target])\n",
    "\n",
    "df_train"
   ]
  },
  {
   "cell_type": "code",
   "execution_count": 42,
   "metadata": {},
   "outputs": [
    {
     "output_type": "execute_result",
     "data": {
      "text/plain": [
       "      SalePrice  GrLivArea  GarageCars  GarageArea  TotalBsmtSF  1stFlrSF  \\\n",
       "0     12.247694   0.548398           2    0.359050    -0.476217 -0.815867   \n",
       "1     12.109011  -0.387473           2   -0.056722     0.511373  0.431829   \n",
       "2     12.317167   0.682358           2    0.642531    -0.320538 -0.584113   \n",
       "3     11.849398   0.560983           3    0.803170    -0.719466 -0.443971   \n",
       "4     12.429216   1.321795           3    1.719758     0.226772  0.119110   \n",
       "...         ...        ...         ...         ...          ...       ...   \n",
       "1455  12.072541   0.432759           2   -0.056722    -0.240266 -0.470840   \n",
       "1456  12.254863   1.141423           2    0.132265     1.192469  2.027033   \n",
       "1457  12.493130   1.514650           1   -1.039456     0.243799  0.237606   \n",
       "1458  11.864462  -0.872945           1   -1.096152     0.063795 -0.074697   \n",
       "1459  11.901583  -0.402154           1   -0.926064     0.496778  0.416511   \n",
       "\n",
       "      YearBuilt  OverallQual_2  OverallQual_3  OverallQual_4  OverallQual_5  \\\n",
       "0     -1.044786              0              0              0              0   \n",
       "1     -0.185182              0              0              0              0   \n",
       "2     -0.978663              0              0              0              0   \n",
       "3      1.798520              0              0              0              0   \n",
       "4     -0.945601              0              0              0              0   \n",
       "...         ...            ...            ...            ...            ...   \n",
       "1455  -0.945601              0              0              0              0   \n",
       "1456  -0.152120              0              0              0              0   \n",
       "1457   1.071163              0              0              0              0   \n",
       "1458   0.773608              0              0              0              1   \n",
       "1459   0.211559              0              0              0              1   \n",
       "\n",
       "      OverallQual_6  OverallQual_7  OverallQual_8  OverallQual_9  \\\n",
       "0                 0              1              0              0   \n",
       "1                 1              0              0              0   \n",
       "2                 0              1              0              0   \n",
       "3                 0              1              0              0   \n",
       "4                 0              0              1              0   \n",
       "...             ...            ...            ...            ...   \n",
       "1455              1              0              0              0   \n",
       "1456              1              0              0              0   \n",
       "1457              0              1              0              0   \n",
       "1458              0              0              0              0   \n",
       "1459              0              0              0              0   \n",
       "\n",
       "      OverallQual_10  FullBath_1  FullBath_2  FullBath_3  TotRmsAbvGrd_4  \\\n",
       "0                  0           0           1           0               0   \n",
       "1                  0           0           1           0               0   \n",
       "2                  0           0           1           0               0   \n",
       "3                  0           1           0           0               0   \n",
       "4                  0           0           1           0               0   \n",
       "...              ...         ...         ...         ...             ...   \n",
       "1455               0           0           1           0               0   \n",
       "1456               0           0           1           0               0   \n",
       "1457               0           0           1           0               0   \n",
       "1458               0           1           0           0               0   \n",
       "1459               0           1           0           0               0   \n",
       "\n",
       "      TotRmsAbvGrd_5  TotRmsAbvGrd_6  TotRmsAbvGrd_7  TotRmsAbvGrd_8  \\\n",
       "0                  0               0               0               1   \n",
       "1                  0               1               0               0   \n",
       "2                  0               1               0               0   \n",
       "3                  0               0               1               0   \n",
       "4                  0               0               0               0   \n",
       "...              ...             ...             ...             ...   \n",
       "1455               0               0               1               0   \n",
       "1456               0               0               1               0   \n",
       "1457               0               0               0               0   \n",
       "1458               1               0               0               0   \n",
       "1459               0               1               0               0   \n",
       "\n",
       "      TotRmsAbvGrd_9  TotRmsAbvGrd_10  TotRmsAbvGrd_11  TotRmsAbvGrd_12  \\\n",
       "0                  0                0                0                0   \n",
       "1                  0                0                0                0   \n",
       "2                  0                0                0                0   \n",
       "3                  0                0                0                0   \n",
       "4                  1                0                0                0   \n",
       "...              ...              ...              ...              ...   \n",
       "1455               0                0                0                0   \n",
       "1456               0                0                0                0   \n",
       "1457               1                0                0                0   \n",
       "1458               0                0                0                0   \n",
       "1459               0                0                0                0   \n",
       "\n",
       "      TotRmsAbvGrd_14  Fireplaces_1  Fireplaces_2  Fireplaces_3  \n",
       "0                   0             0             0             0  \n",
       "1                   0             1             0             0  \n",
       "2                   0             1             0             0  \n",
       "3                   0             1             0             0  \n",
       "4                   0             1             0             0  \n",
       "...               ...           ...           ...           ...  \n",
       "1455                0             1             0             0  \n",
       "1456                0             0             1             0  \n",
       "1457                0             0             1             0  \n",
       "1458                0             0             0             0  \n",
       "1459                0             0             0             0  \n",
       "\n",
       "[1454 rows x 32 columns]"
      ],
      "text/html": "<div>\n<style scoped>\n    .dataframe tbody tr th:only-of-type {\n        vertical-align: middle;\n    }\n\n    .dataframe tbody tr th {\n        vertical-align: top;\n    }\n\n    .dataframe thead th {\n        text-align: right;\n    }\n</style>\n<table border=\"1\" class=\"dataframe\">\n  <thead>\n    <tr style=\"text-align: right;\">\n      <th></th>\n      <th>SalePrice</th>\n      <th>GrLivArea</th>\n      <th>GarageCars</th>\n      <th>GarageArea</th>\n      <th>TotalBsmtSF</th>\n      <th>1stFlrSF</th>\n      <th>YearBuilt</th>\n      <th>OverallQual_2</th>\n      <th>OverallQual_3</th>\n      <th>OverallQual_4</th>\n      <th>OverallQual_5</th>\n      <th>OverallQual_6</th>\n      <th>OverallQual_7</th>\n      <th>OverallQual_8</th>\n      <th>OverallQual_9</th>\n      <th>OverallQual_10</th>\n      <th>FullBath_1</th>\n      <th>FullBath_2</th>\n      <th>FullBath_3</th>\n      <th>TotRmsAbvGrd_4</th>\n      <th>TotRmsAbvGrd_5</th>\n      <th>TotRmsAbvGrd_6</th>\n      <th>TotRmsAbvGrd_7</th>\n      <th>TotRmsAbvGrd_8</th>\n      <th>TotRmsAbvGrd_9</th>\n      <th>TotRmsAbvGrd_10</th>\n      <th>TotRmsAbvGrd_11</th>\n      <th>TotRmsAbvGrd_12</th>\n      <th>TotRmsAbvGrd_14</th>\n      <th>Fireplaces_1</th>\n      <th>Fireplaces_2</th>\n      <th>Fireplaces_3</th>\n    </tr>\n  </thead>\n  <tbody>\n    <tr>\n      <th>0</th>\n      <td>12.247694</td>\n      <td>0.548398</td>\n      <td>2</td>\n      <td>0.359050</td>\n      <td>-0.476217</td>\n      <td>-0.815867</td>\n      <td>-1.044786</td>\n      <td>0</td>\n      <td>0</td>\n      <td>0</td>\n      <td>0</td>\n      <td>0</td>\n      <td>1</td>\n      <td>0</td>\n      <td>0</td>\n      <td>0</td>\n      <td>0</td>\n      <td>1</td>\n      <td>0</td>\n      <td>0</td>\n      <td>0</td>\n      <td>0</td>\n      <td>0</td>\n      <td>1</td>\n      <td>0</td>\n      <td>0</td>\n      <td>0</td>\n      <td>0</td>\n      <td>0</td>\n      <td>0</td>\n      <td>0</td>\n      <td>0</td>\n    </tr>\n    <tr>\n      <th>1</th>\n      <td>12.109011</td>\n      <td>-0.387473</td>\n      <td>2</td>\n      <td>-0.056722</td>\n      <td>0.511373</td>\n      <td>0.431829</td>\n      <td>-0.185182</td>\n      <td>0</td>\n      <td>0</td>\n      <td>0</td>\n      <td>0</td>\n      <td>1</td>\n      <td>0</td>\n      <td>0</td>\n      <td>0</td>\n      <td>0</td>\n      <td>0</td>\n      <td>1</td>\n      <td>0</td>\n      <td>0</td>\n      <td>0</td>\n      <td>1</td>\n      <td>0</td>\n      <td>0</td>\n      <td>0</td>\n      <td>0</td>\n      <td>0</td>\n      <td>0</td>\n      <td>0</td>\n      <td>1</td>\n      <td>0</td>\n      <td>0</td>\n    </tr>\n    <tr>\n      <th>2</th>\n      <td>12.317167</td>\n      <td>0.682358</td>\n      <td>2</td>\n      <td>0.642531</td>\n      <td>-0.320538</td>\n      <td>-0.584113</td>\n      <td>-0.978663</td>\n      <td>0</td>\n      <td>0</td>\n      <td>0</td>\n      <td>0</td>\n      <td>0</td>\n      <td>1</td>\n      <td>0</td>\n      <td>0</td>\n      <td>0</td>\n      <td>0</td>\n      <td>1</td>\n      <td>0</td>\n      <td>0</td>\n      <td>0</td>\n      <td>1</td>\n      <td>0</td>\n      <td>0</td>\n      <td>0</td>\n      <td>0</td>\n      <td>0</td>\n      <td>0</td>\n      <td>0</td>\n      <td>1</td>\n      <td>0</td>\n      <td>0</td>\n    </tr>\n    <tr>\n      <th>3</th>\n      <td>11.849398</td>\n      <td>0.560983</td>\n      <td>3</td>\n      <td>0.803170</td>\n      <td>-0.719466</td>\n      <td>-0.443971</td>\n      <td>1.798520</td>\n      <td>0</td>\n      <td>0</td>\n      <td>0</td>\n      <td>0</td>\n      <td>0</td>\n      <td>1</td>\n      <td>0</td>\n      <td>0</td>\n      <td>0</td>\n      <td>1</td>\n      <td>0</td>\n      <td>0</td>\n      <td>0</td>\n      <td>0</td>\n      <td>0</td>\n      <td>1</td>\n      <td>0</td>\n      <td>0</td>\n      <td>0</td>\n      <td>0</td>\n      <td>0</td>\n      <td>0</td>\n      <td>1</td>\n      <td>0</td>\n      <td>0</td>\n    </tr>\n    <tr>\n      <th>4</th>\n      <td>12.429216</td>\n      <td>1.321795</td>\n      <td>3</td>\n      <td>1.719758</td>\n      <td>0.226772</td>\n      <td>0.119110</td>\n      <td>-0.945601</td>\n      <td>0</td>\n      <td>0</td>\n      <td>0</td>\n      <td>0</td>\n      <td>0</td>\n      <td>0</td>\n      <td>1</td>\n      <td>0</td>\n      <td>0</td>\n      <td>0</td>\n      <td>1</td>\n      <td>0</td>\n      <td>0</td>\n      <td>0</td>\n      <td>0</td>\n      <td>0</td>\n      <td>0</td>\n      <td>1</td>\n      <td>0</td>\n      <td>0</td>\n      <td>0</td>\n      <td>0</td>\n      <td>1</td>\n      <td>0</td>\n      <td>0</td>\n    </tr>\n    <tr>\n      <th>...</th>\n      <td>...</td>\n      <td>...</td>\n      <td>...</td>\n      <td>...</td>\n      <td>...</td>\n      <td>...</td>\n      <td>...</td>\n      <td>...</td>\n      <td>...</td>\n      <td>...</td>\n      <td>...</td>\n      <td>...</td>\n      <td>...</td>\n      <td>...</td>\n      <td>...</td>\n      <td>...</td>\n      <td>...</td>\n      <td>...</td>\n      <td>...</td>\n      <td>...</td>\n      <td>...</td>\n      <td>...</td>\n      <td>...</td>\n      <td>...</td>\n      <td>...</td>\n      <td>...</td>\n      <td>...</td>\n      <td>...</td>\n      <td>...</td>\n      <td>...</td>\n      <td>...</td>\n      <td>...</td>\n    </tr>\n    <tr>\n      <th>1455</th>\n      <td>12.072541</td>\n      <td>0.432759</td>\n      <td>2</td>\n      <td>-0.056722</td>\n      <td>-0.240266</td>\n      <td>-0.470840</td>\n      <td>-0.945601</td>\n      <td>0</td>\n      <td>0</td>\n      <td>0</td>\n      <td>0</td>\n      <td>1</td>\n      <td>0</td>\n      <td>0</td>\n      <td>0</td>\n      <td>0</td>\n      <td>0</td>\n      <td>1</td>\n      <td>0</td>\n      <td>0</td>\n      <td>0</td>\n      <td>0</td>\n      <td>1</td>\n      <td>0</td>\n      <td>0</td>\n      <td>0</td>\n      <td>0</td>\n      <td>0</td>\n      <td>0</td>\n      <td>1</td>\n      <td>0</td>\n      <td>0</td>\n    </tr>\n    <tr>\n      <th>1456</th>\n      <td>12.254863</td>\n      <td>1.141423</td>\n      <td>2</td>\n      <td>0.132265</td>\n      <td>1.192469</td>\n      <td>2.027033</td>\n      <td>-0.152120</td>\n      <td>0</td>\n      <td>0</td>\n      <td>0</td>\n      <td>0</td>\n      <td>1</td>\n      <td>0</td>\n      <td>0</td>\n      <td>0</td>\n      <td>0</td>\n      <td>0</td>\n      <td>1</td>\n      <td>0</td>\n      <td>0</td>\n      <td>0</td>\n      <td>0</td>\n      <td>1</td>\n      <td>0</td>\n      <td>0</td>\n      <td>0</td>\n      <td>0</td>\n      <td>0</td>\n      <td>0</td>\n      <td>0</td>\n      <td>1</td>\n      <td>0</td>\n    </tr>\n    <tr>\n      <th>1457</th>\n      <td>12.493130</td>\n      <td>1.514650</td>\n      <td>1</td>\n      <td>-1.039456</td>\n      <td>0.243799</td>\n      <td>0.237606</td>\n      <td>1.071163</td>\n      <td>0</td>\n      <td>0</td>\n      <td>0</td>\n      <td>0</td>\n      <td>0</td>\n      <td>1</td>\n      <td>0</td>\n      <td>0</td>\n      <td>0</td>\n      <td>0</td>\n      <td>1</td>\n      <td>0</td>\n      <td>0</td>\n      <td>0</td>\n      <td>0</td>\n      <td>0</td>\n      <td>0</td>\n      <td>1</td>\n      <td>0</td>\n      <td>0</td>\n      <td>0</td>\n      <td>0</td>\n      <td>0</td>\n      <td>1</td>\n      <td>0</td>\n    </tr>\n    <tr>\n      <th>1458</th>\n      <td>11.864462</td>\n      <td>-0.872945</td>\n      <td>1</td>\n      <td>-1.096152</td>\n      <td>0.063795</td>\n      <td>-0.074697</td>\n      <td>0.773608</td>\n      <td>0</td>\n      <td>0</td>\n      <td>0</td>\n      <td>1</td>\n      <td>0</td>\n      <td>0</td>\n      <td>0</td>\n      <td>0</td>\n      <td>0</td>\n      <td>1</td>\n      <td>0</td>\n      <td>0</td>\n      <td>0</td>\n      <td>1</td>\n      <td>0</td>\n      <td>0</td>\n      <td>0</td>\n      <td>0</td>\n      <td>0</td>\n      <td>0</td>\n      <td>0</td>\n      <td>0</td>\n      <td>0</td>\n      <td>0</td>\n      <td>0</td>\n    </tr>\n    <tr>\n      <th>1459</th>\n      <td>11.901583</td>\n      <td>-0.402154</td>\n      <td>1</td>\n      <td>-0.926064</td>\n      <td>0.496778</td>\n      <td>0.416511</td>\n      <td>0.211559</td>\n      <td>0</td>\n      <td>0</td>\n      <td>0</td>\n      <td>1</td>\n      <td>0</td>\n      <td>0</td>\n      <td>0</td>\n      <td>0</td>\n      <td>0</td>\n      <td>1</td>\n      <td>0</td>\n      <td>0</td>\n      <td>0</td>\n      <td>0</td>\n      <td>1</td>\n      <td>0</td>\n      <td>0</td>\n      <td>0</td>\n      <td>0</td>\n      <td>0</td>\n      <td>0</td>\n      <td>0</td>\n      <td>0</td>\n      <td>0</td>\n      <td>0</td>\n    </tr>\n  </tbody>\n</table>\n<p>1454 rows × 32 columns</p>\n</div>"
     },
     "metadata": {},
     "execution_count": 42
    }
   ],
   "source": [
    "df_train = pd.get_dummies(df_train, columns=['OverallQual', 'FullBath', 'TotRmsAbvGrd', 'Fireplaces'], drop_first=True)\n",
    "df_train"
   ]
  },
  {
   "cell_type": "code",
   "execution_count": 43,
   "metadata": {},
   "outputs": [],
   "source": [
    "from sklearn.model_selection import train_test_split\n",
    "X = df_train.iloc[:,1:].values\n",
    "y = df_train.iloc[:,0].values\n",
    "X_train, X_test, y_train, y_test = train_test_split(X, y, test_size=0.2)"
   ]
  },
  {
   "cell_type": "code",
   "execution_count": 44,
   "metadata": {},
   "outputs": [
    {
     "output_type": "stream",
     "name": "stdout",
     "text": [
      "R2 Score(train) is 0.85441\nR2 Score(test) is 0.85298\n"
     ]
    }
   ],
   "source": [
    "# (Multiple) Linear Regression\n",
    "from sklearn.linear_model import LinearRegression\n",
    "regressor = LinearRegression()\n",
    "regressor.fit(X_train,y_train)\n",
    "\n",
    "y_pred = regressor.predict(X_test)\n",
    "y_train_pred = regressor.predict(X_train)\n",
    "\n",
    "# trainデータとtestデータそれぞれのR2スコアを表示する関数\n",
    "def print_r2_score(y_train, y_test, y_train_pred, y_pred):\n",
    "    from sklearn.metrics import r2_score\n",
    "    print(f'R2 Score(train) is {r2_score(y_train, y_train_pred):.5f}')\n",
    "    print(f'R2 Score(test) is {r2_score(y_test, y_pred):.5f}')\n",
    "\n",
    "print_r2_score(y_train, y_test, y_train_pred, y_pred)"
   ]
  },
  {
   "cell_type": "code",
   "execution_count": 28,
   "metadata": {},
   "outputs": [
    {
     "output_type": "stream",
     "name": "stdout",
     "text": [
      "R2 Score(train) is 0.90340\nR2 Score(test) is -205433801893031378944.00000\n"
     ]
    }
   ],
   "source": [
    "# Polymial Regression\n",
    "from sklearn.preprocessing import PolynomialFeatures\n",
    "polynomial_instance = PolynomialFeatures(degree = 2)\n",
    "X_poly_train = polynomial_instance.fit_transform(X_train)\n",
    "X_poly_test = polynomial_instance.fit_transform(X_test)\n",
    "\n",
    "regressor = LinearRegression()\n",
    "regressor.fit(X_poly_train, y_train)\n",
    "y_train_pred = regressor.predict(X_poly_train)\n",
    "y_pred = regressor.predict(X_poly_test)\n",
    "\n",
    "print_r2_score(y_train, y_test, y_train_pred, y_pred)"
   ]
  },
  {
   "cell_type": "code",
   "execution_count": 8,
   "metadata": {},
   "outputs": [
    {
     "output_type": "stream",
     "name": "stdout",
     "text": [
      "R2 Score(train) is 0.85375\nR2 Score(test) is 0.82466\n"
     ]
    }
   ],
   "source": [
    "# SVR\n",
    "from sklearn.svm import SVR\n",
    "svr_regressor = SVR(kernel='linear')\n",
    "svr_regressor.fit(X_train, y_train)\n",
    "y_pred = svr_regressor.predict(X_test)\n",
    "y_train_pred = svr_regressor.predict(X_train)\n",
    "\n",
    "print_r2_score(y_train, y_test, y_train_pred, y_pred)"
   ]
  },
  {
   "cell_type": "code",
   "execution_count": 9,
   "metadata": {},
   "outputs": [
    {
     "output_type": "stream",
     "name": "stdout",
     "text": [
      "R2 Score(train) is 0.90163\nR2 Score(test) is 0.80745\n"
     ]
    }
   ],
   "source": [
    "# SVR (rbf)\n",
    "from sklearn.svm import SVR\n",
    "svr_regressor = SVR(kernel='rbf')\n",
    "svr_regressor.fit(X_train, y_train)\n",
    "y_pred = svr_regressor.predict(X_test)\n",
    "y_train_pred = svr_regressor.predict(X_train)\n",
    "\n",
    "print_r2_score(y_train, y_test, y_train_pred, y_pred)"
   ]
  },
  {
   "cell_type": "code",
   "execution_count": 49,
   "metadata": {},
   "outputs": [
    {
     "output_type": "stream",
     "name": "stdout",
     "text": [
      "R2 Score(train) is 0.97374\nR2 Score(test) is 0.83842\n"
     ]
    }
   ],
   "source": [
    "# Random Forest\n",
    "from sklearn.ensemble import RandomForestRegressor\n",
    "rndm_regressor = RandomForestRegressor(n_estimators = 100, criterion='mae', random_state=0, bootstrap=True)\n",
    "rndm_regressor.fit(X_train, y_train)\n",
    "y_pred = rndm_regressor.predict(X_test)\n",
    "y_train_pred = rndm_regressor.predict(X_train)\n",
    "\n",
    "print_r2_score(y_train, y_test, y_train_pred, y_pred)"
   ]
  },
  {
   "cell_type": "code",
   "execution_count": 48,
   "metadata": {},
   "outputs": [
    {
     "output_type": "stream",
     "name": "stdout",
     "text": [
      "Fitting 5 folds for each of 20 candidates, totalling 100 fits\n",
      "[Parallel(n_jobs=-1)]: Using backend LokyBackend with 8 concurrent workers.\n",
      "[Parallel(n_jobs=-1)]: Batch computation too fast (0.0620s.) Setting batch_size=2.\n",
      "[Parallel(n_jobs=-1)]: Done   2 tasks      | elapsed:    0.0s\n",
      "[Parallel(n_jobs=-1)]: Done   9 tasks      | elapsed:    0.1s\n",
      "[Parallel(n_jobs=-1)]: Done  16 tasks      | elapsed:    0.4s\n",
      "[Parallel(n_jobs=-1)]: Done  34 tasks      | elapsed:    2.5s\n",
      "[Parallel(n_jobs=-1)]: Batch computation too slow (2.0833s.) Setting batch_size=1.\n",
      "[Parallel(n_jobs=-1)]: Done  52 tasks      | elapsed:    3.3s\n",
      "[Parallel(n_jobs=-1)]: Done  71 tasks      | elapsed:    5.9s\n",
      "[Parallel(n_jobs=-1)]: Done  85 out of 100 | elapsed:   10.4s remaining:    1.8s\n",
      "[Parallel(n_jobs=-1)]: Done  96 out of 100 | elapsed:   32.6s remaining:    1.3s\n",
      "[Parallel(n_jobs=-1)]: Done 100 out of 100 | elapsed:   34.7s finished\n"
     ]
    },
    {
     "output_type": "execute_result",
     "data": {
      "text/plain": [
       "{'bootstrap': True, 'criterion': 'mae', 'n_estimators': 100}"
      ]
     },
     "metadata": {},
     "execution_count": 48
    }
   ],
   "source": [
    "# grid search\n",
    "from sklearn.model_selection import GridSearchCV\n",
    "grid_parameters = [\n",
    "    {'n_estimators': [1, 2, 5, 10, 100], \n",
    "    'criterion': ['mse', 'mae'],\n",
    "    #'min_samples_split': [1, 2, 5, 10, 20],\n",
    "    #'min_samples_leaf': [1, 2, 5, 10, 20],\n",
    "    'bootstrap': [True, False],\n",
    "    #'max_features': ['auto', 'sqrt', 'log2']\n",
    "    }\n",
    "]\n",
    "grid_search = GridSearchCV(RandomForestRegressor(), grid_parameters, cv=5, scoring='r2', n_jobs = -1, verbose=10)\n",
    "grid_search.fit(X_train, y_train)\n",
    "grid_search.best_params_"
   ]
  },
  {
   "cell_type": "code",
   "execution_count": 12,
   "metadata": {},
   "outputs": [
    {
     "output_type": "error",
     "ename": "NameError",
     "evalue": "name 'NaN_processing' is not defined",
     "traceback": [
      "\u001b[1;31m---------------------------------------------------------------------------\u001b[0m",
      "\u001b[1;31mNameError\u001b[0m                                 Traceback (most recent call last)",
      "\u001b[1;32m<ipython-input-12-83bdbe6f6db9>\u001b[0m in \u001b[0;36m<module>\u001b[1;34m\u001b[0m\n\u001b[0;32m      2\u001b[0m \u001b[0mtest_dataset\u001b[0m \u001b[1;33m=\u001b[0m \u001b[0mpd\u001b[0m\u001b[1;33m.\u001b[0m\u001b[0mread_csv\u001b[0m\u001b[1;33m(\u001b[0m\u001b[1;34m'data/test.csv'\u001b[0m\u001b[1;33m)\u001b[0m\u001b[1;33m\u001b[0m\u001b[1;33m\u001b[0m\u001b[0m\n\u001b[0;32m      3\u001b[0m \u001b[1;31m#test_dataset = NaN_check(test_dataset)\u001b[0m\u001b[1;33m\u001b[0m\u001b[1;33m\u001b[0m\u001b[1;33m\u001b[0m\u001b[0m\n\u001b[1;32m----> 4\u001b[1;33m \u001b[0mtest_dataset\u001b[0m \u001b[1;33m=\u001b[0m \u001b[0mNaN_processing\u001b[0m\u001b[1;33m(\u001b[0m\u001b[0mtest_dataset\u001b[0m\u001b[1;33m)\u001b[0m\u001b[1;33m\u001b[0m\u001b[1;33m\u001b[0m\u001b[0m\n\u001b[0m\u001b[0;32m      5\u001b[0m \u001b[0mX_sub\u001b[0m\u001b[1;33m,\u001b[0m \u001b[0my_sub\u001b[0m\u001b[1;33m,\u001b[0m \u001b[0mtest_dataset\u001b[0m \u001b[1;33m=\u001b[0m \u001b[0mdata_preprocessing\u001b[0m\u001b[1;33m(\u001b[0m\u001b[0mtest_dataset\u001b[0m\u001b[1;33m,\u001b[0m \u001b[0mmode\u001b[0m\u001b[1;33m=\u001b[0m\u001b[1;34m'predict'\u001b[0m\u001b[1;33m)\u001b[0m\u001b[1;33m\u001b[0m\u001b[1;33m\u001b[0m\u001b[0m\n\u001b[0;32m      6\u001b[0m \u001b[1;33m\u001b[0m\u001b[0m\n",
      "\u001b[1;31mNameError\u001b[0m: name 'NaN_processing' is not defined"
     ]
    }
   ],
   "source": [
    "# Predict\n",
    "test_dataset = pd.read_csv('data/test.csv')\n",
    "#test_dataset = NaN_check(test_dataset)\n",
    "test_dataset = NaN_processing(test_dataset)\n",
    "X_sub, y_sub, test_dataset = data_preprocessing(test_dataset, mode='predict')\n",
    "\n",
    "y_pred = rndm_regressor.predict(X_sub)\n",
    "\n",
    "output = pd.DataFrame({'Id': test_dataset['Id'], 'SalePrice': y_pred})\n",
    "output.to_csv('my_submission.csv', index=False)\n",
    "print(\"Your submission was successfully saved!\")"
   ]
  }
 ]
}